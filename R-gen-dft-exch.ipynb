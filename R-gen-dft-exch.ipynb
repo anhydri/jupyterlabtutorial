{
 "cells": [
  {
   "cell_type": "markdown",
   "metadata": {},
   "source": [
    "# DFT Exchange"
   ]
  },
  {
   "cell_type": "code",
   "execution_count": 3,
   "metadata": {},
   "outputs": [],
   "source": [
    "library(boot)\n",
    "library(data.table)"
   ]
  },
  {
   "cell_type": "markdown",
   "metadata": {},
   "source": [
    "#### READ DATAS"
   ]
  },
  {
   "cell_type": "code",
   "execution_count": 4,
   "metadata": {},
   "outputs": [],
   "source": [
    "# Desired columns out of data frame\n",
    "col <- c(\"dimer\", \"complex\", \"int_bm\", \"int_DFT\", \"int_DFT_X\", \"int_DFT_C\", \"int_HF_X\", \"int_DFT_D3\")"
   ]
  },
  {
   "cell_type": "code",
   "execution_count": 5,
   "metadata": {},
   "outputs": [],
   "source": [
    "data1.dt <- read.csv(\"s66_pbe_vtz.csv\", header=TRUE, sep=\",\")\n",
    "data1.df <- data.frame(data1.dt[col])\n",
    "data1.df[\"diff_HFX_DFTX\"] <- data1.df$int_HF_X - data1.df$int_DFT_X"
   ]
  },
  {
   "cell_type": "raw",
   "metadata": {},
   "source": [
    "data2.dt <- read.csv(\"il174_blyp_vtz.csv\", header=TRUE, sep=\",\")\n",
    "data3.dt <- read.csv(\"il2ips_blyp_vtz.csv\", header=TRUE, sep=\",\")\n",
    "\n",
    "data2.df <- data.frame(data2.dt[col])\n",
    "data2.df[\"diff_HFX_DFTX\"] <- data2.df$int_HF_X - data2.df$int_DFT_X\n",
    "data3.df <- data.frame(data3.dt[col])\n",
    "data3.df[\"diff_HFX_DFTX\"] <- data3.df$int_HF_X - data3.df$int_DFT_X\n",
    "data1p2.df = rbind(data1.df, data2.df, data3.df)"
   ]
  },
  {
   "cell_type": "raw",
   "metadata": {},
   "source": [
    "ndata <- list(\"data1.df\" = data1.df, \"data2.df\" = data2.df, \"data1p2.df\" = data1p2.df)"
   ]
  },
  {
   "cell_type": "raw",
   "metadata": {},
   "source": [
    "colnames(data1.df)"
   ]
  },
  {
   "cell_type": "raw",
   "metadata": {},
   "source": [
    "newdata.df <- data.frame(\"dimer\" = data1.df$dimer, \n",
    "                         \"complex\" = data1.df$complex,\n",
    "                         \"int_bm\" = data1.df$int_bm*2,\n",
    "                         \"int_DFT\" = data1.df$int_DFT*2,\n",
    "                         \"int_DFT_X\" = data1.df$int_DFT_X*2,\n",
    "                         \"int_DFT_C\" = data1.df$int_DFT_C*2,\n",
    "                         \"int_HF_X\" = data1.df$int_HF_X*2,\n",
    "                         \"int_DFT_D3\" = data1.df$int_DFT_D3*2,\n",
    "                         \"diff_HFX_DFTX\" = data1.df$diff_HFX_DFTX*2)"
   ]
  },
  {
   "cell_type": "markdown",
   "metadata": {},
   "source": [
    "#### FUNCTIONS"
   ]
  },
  {
   "cell_type": "code",
   "execution_count": 6,
   "metadata": {},
   "outputs": [],
   "source": [
    "# Round all values in data frame\n",
    "round.fn <- function(dt, n) {\n",
    "    is.num <- sapply(dt, is.numeric)\n",
    "    dt[is.num] <- lapply(dt[is.num], round, n)\n",
    "    return(dt)\n",
    "}"
   ]
  },
  {
   "cell_type": "code",
   "execution_count": 7,
   "metadata": {},
   "outputs": [],
   "source": [
    "# !!! Add MAE, RMS, RMSD, RMSE\n",
    "mae <- function(x) {\n",
    "    mean(abs(x), na.rm = TRUE)\n",
    "}\n",
    "\n",
    "rmsd <- function(x) {\n",
    "    sqrt(mean(x^2, na.rm = TRUE))\n",
    "}\n",
    "\n",
    "classic.stats.fn <- function(x) {\n",
    "    a = c(\n",
    "        # Average value\n",
    "        mean(x, na.rm = TRUE),\n",
    "        # Median absolute deviation\n",
    "        mad(x, na.rm = TRUE),\n",
    "        # Mean absolute error \n",
    "        mae(x),\n",
    "        # Root mean squared deviation\n",
    "        rmsd(x),\n",
    "        # Standard deviation\n",
    "        sd(x, na.rm = TRUE),\n",
    "        # Minimum value\n",
    "        min(x, na.rm = TRUE),\n",
    "        # Maximum value\n",
    "        max(x, na.rm = TRUE)\n",
    "        )\n",
    "    return(a)\n",
    "}"
   ]
  },
  {
   "cell_type": "code",
   "execution_count": 8,
   "metadata": {},
   "outputs": [],
   "source": [
    "# BOOTSTRAPPING METHOD\n",
    "# boot_comp := stats.vec\n",
    "\n",
    "ci.out.fn <- function(dt, boot_comp, stat.fn) {\n",
    "    bootstr.out <- boot(data = dt, R = 10000, statistic = stat.fn, \n",
    "                        parallel = \"multicore\", ncpus = 6)\n",
    "    \n",
    "    n_stats = length(boot_comp)\n",
    "    \n",
    "    boot.stat.dt <- data.table(component = character(), stat = double(), lower = double(), upper = double())\n",
    "    \n",
    "    for (i in 1:n_stats) {\n",
    "        ci.out <- boot.ci(bootstr.out, index = as.integer(i), type = \"basic\", conf = 0.95) \n",
    "        my_list <- list(boot_comp[i], ci.out$t0, ci.out$basic[4], ci.out$basic[5])\n",
    "        boot.stat.dt = rbind(boot.stat.dt, my_list)\n",
    "    }\n",
    "    \n",
    "    return(boot.stat.dt)\n",
    "}"
   ]
  },
  {
   "cell_type": "code",
   "execution_count": 33,
   "metadata": {},
   "outputs": [],
   "source": [
    "whichfitmodel <- 4.1"
   ]
  },
  {
   "cell_type": "code",
   "execution_count": 34,
   "metadata": {},
   "outputs": [],
   "source": [
    "# FITTING-MODELS\n",
    "\n",
    "fitmod <- whichfitmodel\n",
    "\n",
    "if (fitmod == 1) {\n",
    "    \n",
    "    fitmodel.fn <- function(dt, x, y){\n",
    "        x = c(\"int_DFT_X\", \"int_HF_X\", \"0\")\n",
    "        y = \"int_bm - int_DFT\"\n",
    "        indep = paste(x, collapse = \" + \")\n",
    "        my.formula = paste(y, \" ~ \", indep, sep = \"\")           \n",
    "        fit_data <- lm(formula = my.formula, data = dt)  \n",
    "        return(fit_data)\n",
    "    }\n",
    "    \n",
    "    get.out.fitmodel.fn <- function(dt, indices, x, y){\n",
    "        x = c(\"int_DFT_X\", \"int_HF_X\", \"0\")\n",
    "        y = \"int_bm - int_DFT\"\n",
    "        indep = paste(x, collapse = \" + \")\n",
    "        my.formula = paste(y, \" ~ \", indep, sep = \"\")\n",
    "        d = dt[indices,]                                  # allows boot to select sample\n",
    "        fit_data <- lm(formula = my.formula, data = d)  \n",
    "        sumfit <- summary(fit_data)\n",
    "        fit.out.dt <- c(coef(sumfit), sumfit$r.squared, classic.stats.fn(resid(sumfit)))\n",
    "        return(fit.out.dt)\n",
    "    }\n",
    "    \n",
    "    sm.get.out.fitmodel.fn <- function(dt, indices, x, y){\n",
    "        x = c(\"int_DFT_X\", \"int_HF_X\", \"0\")\n",
    "        y = \"int_bm - int_DFT\"\n",
    "        indep = paste(x, collapse = \" + \")\n",
    "        my.formula = paste(y, \" ~ \", indep, sep = \"\")\n",
    "        d = dt[indices,]                                  # allows boot to select sample\n",
    "        fit_data <- lm(formula = my.formula, data = d)  \n",
    "        sumfit <- summary(fit_data)\n",
    "        fit.out.dt <- c(coef(sumfit)[1:4], sumfit$r.squared, classic.stats.fn(resid(sumfit)))\n",
    "        return(fit.out.dt)\n",
    "    }\n",
    "    \n",
    "    stats.vec <- c(\"DFTX.coef\", \"HFX.coeff\", \n",
    "                 \"DFTX.stderr\", \"HFX.stderr\", \n",
    "                 \"DFTX.tval\", \"HFX.tval\", \n",
    "                 \"DFTX.pval\", \"HFX.pval\", \n",
    "                 \"R.squ\", \"MEAN\", \"MAD\", \"MAE\", \"RMSD\", \"SD\", \"Min\", \"Max\")\n",
    "    \n",
    "    stats.vec.sm <- c(\"DFTX.coef\", \"HFX.coeff\", \"DFTX.stderr\", \"HFX.stderr\", \n",
    "                    \"R.squ\", \"MEAN\", \"MAD\", \"MAE\", \"RMSD\", \"SD\", \"Min\", \"Max\")\n",
    "}\n",
    "\n",
    "if (fitmod == 1.1) {\n",
    "    \n",
    "    fitmodel.fn <- function(dt, x, y){\n",
    "        x = c(\"int_DFT_X\", \"int_HF_X\", \"0\")\n",
    "        y = \"int_bm - int_DFT + int_DFT_X + int_DFT_C\"\n",
    "        indep = paste(x, collapse = \" + \")\n",
    "        my.formula = paste(y, \" ~ \", indep, sep = \"\")           \n",
    "        fit_data <- lm(formula = my.formula, data = dt)  \n",
    "        return(fit_data)\n",
    "    }\n",
    "    \n",
    "    get.out.fitmodel.fn <- function(dt, indices, x, y){\n",
    "        x = c(\"int_DFT_X\", \"int_HF_X\", \"0\")\n",
    "        y = \"int_bm - int_DFT + int_DFT_X + int_DFT_C\"\n",
    "        indep = paste(x, collapse = \" + \")\n",
    "        my.formula = paste(y, \" ~ \", indep, sep = \"\")\n",
    "        d = dt[indices,]                                  # allows boot to select sample\n",
    "        fit_data <- lm(formula = my.formula, data = d)  \n",
    "        sumfit <- summary(fit_data)\n",
    "        fit.out.dt <- c(coef(sumfit), sumfit$r.squared, classic.stats.fn(resid(sumfit)))\n",
    "        return(fit.out.dt)\n",
    "    }\n",
    "    \n",
    "    sm.get.out.fitmodel.fn <- function(dt, indices, x, y){\n",
    "        x = c(\"int_DFT_X\", \"int_HF_X\", \"0\")\n",
    "        y = \"int_bm - int_DFT + int_DFT_X + int_DFT_C\"\n",
    "        indep = paste(x, collapse = \" + \")\n",
    "        my.formula = paste(y, \" ~ \", indep, sep = \"\")\n",
    "        d = dt[indices,]                                  # allows boot to select sample\n",
    "        fit_data <- lm(formula = my.formula, data = d)  \n",
    "        sumfit <- summary(fit_data)\n",
    "        fit.out.dt <- c(coef(sumfit)[1:4], sumfit$r.squared, classic.stats.fn(resid(sumfit)))\n",
    "        return(fit.out.dt)\n",
    "    }\n",
    "    \n",
    "    stats.vec <- c(\"DFTX.coef\", \"HFX.coeff\", \n",
    "                 \"DFTX.stderr\", \"HFX.stderr\", \n",
    "                 \"DFTX.tval\", \"HFX.tval\", \n",
    "                 \"DFTX.pval\", \"HFX.pval\", \n",
    "                 \"R.squ\", \"MEAN\", \"MAD\", \"MAE\", \"RMSD\", \"SD\", \"Min\", \"Max\")\n",
    "    \n",
    "    stats.vec.sm <- c(\"DFTX.coef\", \"HFX.coeff\", \"DFTX.stderr\", \"HFX.stderr\", \n",
    "                    \"R.squ\", \"MEAN\", \"MAD\", \"MAE\", \"RMSD\", \"SD\", \"Min\", \"Max\")\n",
    "}\n",
    "\n",
    "if (fitmod == 2) {\n",
    "    \n",
    "    fitmodel.fn <- function(dt, x, y) {\n",
    "        x = c(\"int_DFT_X\", \"int_HF_X\", \"int_DFT_C\", \"0\")\n",
    "        y = \"int_bm - int_DFT\"\n",
    "        indep = paste(x, collapse = \" + \")\n",
    "        my.formula = paste(y, \"~\", indep, sep = \"\")\n",
    "        fit_data <- lm(formula = my.formula, data = dt)\n",
    "        return(fit_data)\n",
    "    }\n",
    "    \n",
    "    get.out.fitmodel.fn <- function(dt, indices, x, y){\n",
    "        x = c(\"int_DFT_X\", \"int_HF_X\", \"int_DFT_C\", \"0\")\n",
    "        y = \"int_bm - int_DFT\"\n",
    "        indep = paste(x, collapse = \" + \")\n",
    "        my.formula = paste(y, \" ~ \", indep, sep = \"\")\n",
    "        d = dt[indices,]                                       # allows boot to select sample\n",
    "        fit_data <- lm(formula = my.formula, data = d)  \n",
    "        sumfit <- summary(fit_data)\n",
    "        fit.out.dt <- c(coef(sumfit), sumfit$r.squared, classic.stats.fn(resid(sumfit)))\n",
    "        return(fit.out.dt)\n",
    "    }\n",
    "    \n",
    "    sm.get.out.fitmodel.fn <- function(dt, indices, x, y){\n",
    "        x = c(\"int_DFT_X\", \"int_HF_X\", \"int_DFT_C\", \"0\")\n",
    "        y = \"int_bm - int_DFT\"\n",
    "        indep = paste(x, collapse = \" + \")\n",
    "        my.formula = paste(y, \" ~ \", indep, sep = \"\")\n",
    "        d = dt[indices,]                                       # allows boot to select sample\n",
    "        fit_data <- lm(formula = my.formula, data = d)  \n",
    "        sumfit <- summary(fit_data)\n",
    "        fit.out.dt <- c(coef(sumfit)[1:4], sumfit$r.squared, classic.stats.fn(resid(sumfit)))\n",
    "        return(fit.out.dt)\n",
    "    }\n",
    "    \n",
    "    stats.vec <- c(\"DFTX.coef\", \"HFX.coeff\", \"DFTC.coef\", \n",
    "                 \"DFTX.stderr\", \"HFX.stderr\", \"DFTC.stderr\", \n",
    "                 \"DFTX.tval\", \"HFX.tval\", \"DFTC.tval\", \n",
    "                 \"DFTX.pval\", \"HFX.pval\", \"DFTC.pval\",\n",
    "                 \"R.squ\", \"MEAN\", \"MAD\", \"MAE\", \"RMSD\", \"SD\", \"Min\", \"Max\")\n",
    "    \n",
    "    stats.vec.sm <- c(\"DFTX.coef\", \"HFX.coeff\", \"DFTC.coef\", \n",
    "                 \"DFTX.stderr\", \"HFX.stderr\", \"DFTC.stderr\", \n",
    "                 \"R.squ\", \"MEAN\", \"MAD\", \"MAE\", \"RMSD\", \"SD\", \"Min\", \"Max\")\n",
    "    \n",
    "}\n",
    "\n",
    "if (fitmod == 2.1) {\n",
    "    \n",
    "    fitmodel.fn <- function(dt, x, y) {\n",
    "        x = c(\"int_DFT_X\", \"int_HF_X\", \"int_DFT_C\", \"0\")\n",
    "        y = \"int_bm - int_DFT + int_DFT_X + int_DFT_C\"\n",
    "        indep = paste(x, collapse = \" + \")\n",
    "        my.formula = paste(y, \"~\", indep, sep = \"\")\n",
    "        fit_data <- lm(formula = my.formula, data = dt)\n",
    "        return(fit_data)\n",
    "    }\n",
    "    \n",
    "    get.out.fitmodel.fn <- function(dt, indices, x, y){\n",
    "        x = c(\"int_DFT_X\", \"int_HF_X\", \"int_DFT_C\", \"0\")\n",
    "        y = \"int_bm - int_DFT + int_DFT_X + int_DFT_C\"\n",
    "        indep = paste(x, collapse = \" + \")\n",
    "        my.formula = paste(y, \" ~ \", indep, sep = \"\")\n",
    "        d = dt[indices,]                                       # allows boot to select sample\n",
    "        fit_data <- lm(formula = my.formula, data = d)  \n",
    "        sumfit <- summary(fit_data)\n",
    "        fit.out.dt <- c(coef(sumfit), sumfit$r.squared, classic.stats.fn(resid(sumfit)))\n",
    "        return(fit.out.dt)\n",
    "    }\n",
    "    \n",
    "    sm.get.out.fitmodel.fn <- function(dt, indices, x, y){\n",
    "        x = c(\"int_DFT_X\", \"int_HF_X\", \"int_DFT_C\", \"0\")\n",
    "        y = \"int_bm - int_DFT + int_DFT_X + int_DFT_C\"\n",
    "        indep = paste(x, collapse = \" + \")\n",
    "        my.formula = paste(y, \" ~ \", indep, sep = \"\")\n",
    "        d = dt[indices,]                                       # allows boot to select sample\n",
    "        fit_data <- lm(formula = my.formula, data = d)  \n",
    "        sumfit <- summary(fit_data)\n",
    "        fit.out.dt <- c(coef(sumfit)[1:4], sumfit$r.squared, classic.stats.fn(resid(sumfit)))\n",
    "        return(fit.out.dt)\n",
    "    }\n",
    "    \n",
    "    stats.vec <- c(\"DFTX.coef\", \"HFX.coeff\", \"DFTC.coef\", \n",
    "                 \"DFTX.stderr\", \"HFX.stderr\", \"DFTC.stderr\", \n",
    "                 \"DFTX.tval\", \"HFX.tval\", \"DFTC.tval\", \n",
    "                 \"DFTX.pval\", \"HFX.pval\", \"DFTC.pval\",\n",
    "                 \"R.squ\", \"MEAN\", \"MAD\", \"MAE\", \"RMSD\", \"SD\", \"Min\", \"Max\")\n",
    "    \n",
    "    stats.vec.sm <- c(\"DFTX.coef\", \"HFX.coeff\", \"DFTC.coef\", \n",
    "                 \"DFTX.stderr\", \"HFX.stderr\", \"DFTC.stderr\", \n",
    "                 \"R.squ\", \"MEAN\", \"MAD\", \"MAE\", \"RMSD\", \"SD\", \"Min\", \"Max\")\n",
    "    \n",
    "}\n",
    "\n",
    "if (fitmod == 2.2) {\n",
    "    \n",
    "    fitmodel.fn <- function(dt, x, y) {\n",
    "        x = c(\"int_DFT_X\", \"int_HF_X\", \"int_DFT_C\", \"0\")\n",
    "        y = \"int_bm - int_DFT + int_DFT_C\"\n",
    "        indep = paste(x, collapse = \" + \")\n",
    "        my.formula = paste(y, \"~\", indep, sep = \"\")\n",
    "        fit_data <- lm(formula = my.formula, data = dt)\n",
    "        return(fit_data)\n",
    "    }\n",
    "    \n",
    "    get.out.fitmodel.fn <- function(dt, indices, x, y){\n",
    "        x = c(\"int_DFT_X\", \"int_HF_X\", \"int_DFT_C\", \"0\")\n",
    "        y = \"int_bm - int_DFT + int_DFT_C\"\n",
    "        indep = paste(x, collapse = \" + \")\n",
    "        my.formula = paste(y, \" ~ \", indep, sep = \"\")\n",
    "        d = dt[indices,]                                       # allows boot to select sample\n",
    "        fit_data <- lm(formula = my.formula, data = d)  \n",
    "        sumfit <- summary(fit_data)\n",
    "        fit.out.dt <- c(coef(sumfit), sumfit$r.squared, classic.stats.fn(resid(sumfit)))\n",
    "        return(fit.out.dt)\n",
    "    }\n",
    "    \n",
    "    sm.get.out.fitmodel.fn <- function(dt, indices, x, y){\n",
    "        x = c(\"int_DFT_X\", \"int_HF_X\", \"int_DFT_C\", \"0\")\n",
    "        y = \"int_bm - int_DFT + int_DFT_C\"\n",
    "        indep = paste(x, collapse = \" + \")\n",
    "        my.formula = paste(y, \" ~ \", indep, sep = \"\")\n",
    "        d = dt[indices,]                                       # allows boot to select sample\n",
    "        fit_data <- lm(formula = my.formula, data = d)  \n",
    "        sumfit <- summary(fit_data)\n",
    "        fit.out.dt <- c(coef(sumfit)[1:4], sumfit$r.squared, classic.stats.fn(resid(sumfit)))\n",
    "        return(fit.out.dt)\n",
    "    }\n",
    "    \n",
    "    stats.vec <- c(\"DFTX.coef\", \"HFX.coeff\", \"DFTC.coef\", \n",
    "                 \"DFTX.stderr\", \"HFX.stderr\", \"DFTC.stderr\", \n",
    "                 \"DFTX.tval\", \"HFX.tval\", \"DFTC.tval\", \n",
    "                 \"DFTX.pval\", \"HFX.pval\", \"DFTC.pval\",\n",
    "                 \"R.squ\", \"MEAN\", \"MAD\", \"MAE\", \"RMSD\", \"SD\", \"Min\", \"Max\")\n",
    "    \n",
    "    stats.vec.sm <- c(\"DFTX.coef\", \"HFX.coeff\", \"DFTC.coef\", \n",
    "                 \"DFTX.stderr\", \"HFX.stderr\", \"DFTC.stderr\", \n",
    "                 \"R.squ\", \"MEAN\", \"MAD\", \"MAE\", \"RMSD\", \"SD\", \"Min\", \"Max\")\n",
    "    \n",
    "}\n",
    "\n",
    "if (fitmod == 3) {\n",
    "    \n",
    "    fitmodel.fn <- function(dt, x, y) {\n",
    "        x = c(\"int_HF_X\", \"0\")\n",
    "        y = \"int_bm - int_DFT + int_DFT_X\"\n",
    "        indep = paste(x, collapse = \" + \")\n",
    "        my.formula = paste(y, \"~\", indep, sep = \"\")\n",
    "        fit_data <- lm(formula = my.formula, data = dt)\n",
    "        return(fit_data)\n",
    "    }\n",
    "    \n",
    "    get.out.fitmodel.fn <- function(dt, indices, x, y){\n",
    "        x = c(\"int_HF_X\", \"0\")\n",
    "        y = \"int_bm - int_DFT + int_DFT_X\"\n",
    "        indep = paste(x, collapse = \" + \")\n",
    "        my.formula = paste(y, \" ~ \", indep, sep = \"\")\n",
    "        d = dt[indices,]                                       # allows boot to select sample\n",
    "        fit_data <- lm(formula = my.formula, data = d)  \n",
    "        sumfit <- summary(fit_data)\n",
    "        fit.out.dt <- c(coef(sumfit), sumfit$r.squared, classic.stats.fn(resid(sumfit)))\n",
    "        return(fit.out.dt)\n",
    "    }\n",
    "    \n",
    "    sm.get.out.fitmodel.fn <- function(dt, indices, x, y){\n",
    "        x = c(\"int_HF_X\", \"0\")\n",
    "        y = \"int_bm - int_DFT + int_DFT_X\"\n",
    "        indep = paste(x, collapse = \" + \")\n",
    "        my.formula = paste(y, \" ~ \", indep, sep = \"\")\n",
    "        d = dt[indices,]                                       # allows boot to select sample\n",
    "        fit_data <- lm(formula = my.formula, data = d)  \n",
    "        sumfit <- summary(fit_data)\n",
    "        fit.out.dt <- c(coef(sumfit)[1:4], sumfit$r.squared, classic.stats.fn(resid(sumfit)))\n",
    "        return(fit.out.dt)\n",
    "    }\n",
    "    \n",
    "    stats.vec <- c(\"HFX.coeff\", \"HFX.stderr\", \"HFX.tval\", \"HFX.pval\",\n",
    "                 \"R.squ\", \"MEAN\", \"MAD\", \"MAE\", \"RMSD\", \"SD\", \"Min\", \"Max\")\n",
    "    \n",
    "    stats.vec.sm <- c(\"HFX.coeff\", \"HFX.stderr\",\n",
    "                 \"R.squ\", \"MEAN\", \"MAD\", \"MAE\", \"RMSD\", \"SD\", \"Min\", \"Max\")\n",
    "    \n",
    "}\n",
    "\n",
    "if (fitmod == 4) {\n",
    "    \n",
    "    fitmodel.fn <- function(dt, x, y) {\n",
    "        x = c(\"int_HF_X\", \"int_DFT_C\", \"0\")\n",
    "        y = \"int_bm - int_DFT + int_DFT_X\"\n",
    "        indep = paste(x, collapse = \" + \")\n",
    "        my.formula = paste(y, \"~\", indep, sep = \"\")\n",
    "        fit_data <- lm(formula = my.formula, data = dt)\n",
    "        return(fit_data)\n",
    "    }\n",
    "    \n",
    "    get.out.fitmodel.fn <- function(dt, indices, x, y){\n",
    "        x = c(\"int_HF_X\", \"int_DFT_C\", \"0\")\n",
    "        y = \"int_bm - int_DFT + int_DFT_X\"\n",
    "        indep = paste(x, collapse = \" + \")\n",
    "        my.formula = paste(y, \" ~ \", indep, sep = \"\")\n",
    "        d = dt[indices,]                                       # allows boot to select sample\n",
    "        fit_data <- lm(formula = my.formula, data = d)  \n",
    "        sumfit <- summary(fit_data)\n",
    "        fit.out.dt <- c(coef(sumfit), sumfit$r.squared, classic.stats.fn(resid(sumfit)))\n",
    "        return(fit.out.dt)\n",
    "    }\n",
    "    \n",
    "    sm.get.out.fitmodel.fn <- function(dt, indices, x, y){\n",
    "        x = c(\"int_HF_X\", \"int_DFT_C\", \"0\")\n",
    "        y = \"int_bm - int_DFT + int_DFT_X\"\n",
    "        indep = paste(x, collapse = \" + \")\n",
    "        my.formula = paste(y, \" ~ \", indep, sep = \"\")\n",
    "        d = dt[indices,]                                       # allows boot to select sample\n",
    "        fit_data <- lm(formula = my.formula, data = d)  \n",
    "        sumfit <- summary(fit_data)\n",
    "        fit.out.dt <- c(coef(sumfit)[1:4], sumfit$r.squared, classic.stats.fn(resid(sumfit)))\n",
    "        return(fit.out.dt)\n",
    "    }\n",
    "    \n",
    "    stats.vec <- c(\"HFX.coef\", \"DFTC.coeff\", \n",
    "                 \"HFX.stderr\", \"DFTC.stderr\", \n",
    "                 \"HFX.tval\", \"DFTC.tval\", \n",
    "                 \"HFX.pval\", \"DFTC.pval\", \n",
    "                 \"R.squ\", \"MEAN\", \"MAD\", \"MAE\", \"RMSD\", \"SD\", \"Min\", \"Max\")\n",
    "    \n",
    "    stats.vec.sm <- c(\"HFX.coef\", \"DFTC.coeff\", \n",
    "                 \"HFX.stderr\", \"DFTC.stderr\",  \n",
    "                 \"R.squ\", \"MEAN\", \"MAD\", \"MAE\", \"RMSD\", \"SD\", \"Min\", \"Max\")\n",
    "    \n",
    "}\n",
    "\n",
    "if (fitmod == 4.1) {\n",
    "    \n",
    "    fitmodel.fn <- function(dt, x, y) {\n",
    "        x = c(\"int_HF_X\", \"int_DFT_C\", \"0\")\n",
    "        y = \"int_bm - int_DFT + int_DFT_X + int_DFT_C\"\n",
    "        indep = paste(x, collapse = \" + \")\n",
    "        my.formula = paste(y, \"~\", indep, sep = \"\")\n",
    "        fit_data <- lm(formula = my.formula, data = dt)\n",
    "        return(fit_data)\n",
    "    }\n",
    "    \n",
    "    get.out.fitmodel.fn <- function(dt, indices, x, y){\n",
    "        x = c(\"int_HF_X\", \"int_DFT_C\", \"0\")\n",
    "        y = \"int_bm - int_DFT + int_DFT_X + int_DFT_C\"\n",
    "        indep = paste(x, collapse = \" + \")\n",
    "        my.formula = paste(y, \" ~ \", indep, sep = \"\")\n",
    "        d = dt[indices,]                                       # allows boot to select sample\n",
    "        fit_data <- lm(formula = my.formula, data = d)  \n",
    "        sumfit <- summary(fit_data)\n",
    "        fit.out.dt <- c(coef(sumfit), sumfit$r.squared, classic.stats.fn(resid(sumfit)))\n",
    "        return(fit.out.dt)\n",
    "    }\n",
    "    \n",
    "    sm.get.out.fitmodel.fn <- function(dt, indices, x, y){\n",
    "        x = c(\"int_HF_X\", \"int_DFT_C\", \"0\")\n",
    "        y = \"int_bm - int_DFT + int_DFT_X + int_DFT_C\"\n",
    "        indep = paste(x, collapse = \" + \")\n",
    "        my.formula = paste(y, \" ~ \", indep, sep = \"\")\n",
    "        d = dt[indices,]                                       # allows boot to select sample\n",
    "        fit_data <- lm(formula = my.formula, data = d)  \n",
    "        sumfit <- summary(fit_data)\n",
    "        fit.out.dt <- c(coef(sumfit)[1:4], sumfit$r.squared, classic.stats.fn(resid(sumfit)))\n",
    "        return(fit.out.dt)\n",
    "    }\n",
    "    \n",
    "    stats.vec <- c(\"HFX.coef\", \"DFTC.coeff\", \n",
    "                 \"HFX.stderr\", \"DFTC.stderr\", \n",
    "                 \"HFX.tval\", \"DFTC.tval\", \n",
    "                 \"HFX.pval\", \"DFTC.pval\", \n",
    "                 \"R.squ\", \"MEAN\", \"MAD\", \"MAE\", \"RMSD\", \"SD\", \"Min\", \"Max\")\n",
    "    \n",
    "    stats.vec.sm <- c(\"HFX.coef\", \"DFTC.coeff\", \n",
    "                 \"HFX.stderr\", \"DFTC.stderr\",  \n",
    "                 \"R.squ\", \"MEAN\", \"MAD\", \"MAE\", \"RMSD\", \"SD\", \"Min\", \"Max\")\n",
    "    \n",
    "}\n",
    "\n",
    "if (fitmod == 5) {\n",
    "    \n",
    "    fitmodel.fn <- function(dt, x, y) {\n",
    "        x = c(\"int_HF_X\", \"0\")\n",
    "        y = \"int_bm - int_DFT + int_DFT_X - int_DFT_C\"\n",
    "        indep = paste(x, collapse = \" + \")\n",
    "        my.formula = paste(y, \"~\", indep, sep = \"\")\n",
    "        fit_data <- lm(formula = my.formula, data = dt)\n",
    "        return(fit_data)\n",
    "    }\n",
    "    \n",
    "    get.out.fitmodel.fn <- function(dt, indices, x, y){\n",
    "        x = c(\"int_HF_X\", \"0\")\n",
    "        y = \"int_bm - int_DFT + int_DFT_X - int_DFT_C\"\n",
    "        indep = paste(x, collapse = \" + \")\n",
    "        my.formula = paste(y, \" ~ \", indep, sep = \"\")\n",
    "        d = dt[indices,]                                       # allows boot to select sample\n",
    "        fit_data <- lm(formula = my.formula, data = d)  \n",
    "        sumfit <- summary(fit_data)\n",
    "        fit.out.dt <- c(coef(sumfit), sumfit$r.squared, classic.stats.fn(resid(sumfit)))\n",
    "        return(fit.out.dt)\n",
    "    }\n",
    "    \n",
    "    sm.get.out.fitmodel.fn <- function(dt, indices, x, y){\n",
    "        x = c(\"int_HF_X\", \"0\")\n",
    "        y = \"int_bm - int_DFT + int_DFT_X - int_DFT_C\"\n",
    "        indep = paste(x, collapse = \" + \")\n",
    "        my.formula = paste(y, \" ~ \", indep, sep = \"\")\n",
    "        d = dt[indices,]                                       # allows boot to select sample\n",
    "        fit_data <- lm(formula = my.formula, data = d)  \n",
    "        sumfit <- summary(fit_data)\n",
    "        fit.out.dt <- c(coef(sumfit)[1:4], sumfit$r.squared, classic.stats.fn(resid(sumfit)))\n",
    "        return(fit.out.dt)\n",
    "    }\n",
    "    \n",
    "    stats.vec <- c(\"HFX.coeff\", \"HFX.stderr\", \"HFX.tval\", \"HFX.pval\",\n",
    "                 \"R.squ\", \"MEAN\", \"MAD\", \"MAE\", \"RMSD\", \"SD\", \"Min\", \"Max\")\n",
    "    \n",
    "    stats.vec.sm <- c(\"HFX.coeff\", \"HFX.stderr\",\n",
    "                 \"R.squ\", \"MEAN\", \"MAD\", \"MAE\", \"RMSD\", \"SD\", \"Min\", \"Max\")\n",
    "    \n",
    "}\n",
    "\n",
    "if (fitmod == 6) {\n",
    "    \n",
    "    fitmodel.fn <- function(dt, x, y) {\n",
    "        x = c(\"diff_int_HFX_vs_DFTX\", \"int_DFT_C\", \"0\")\n",
    "        y = \"int_bm - int_DFT\"\n",
    "        indep = paste(x, collapse = \" + \")\n",
    "        my.formula = paste(y, \"~\", indep, sep = \"\")\n",
    "        fit_data <- lm(formula = my.formula, data = dt)\n",
    "        return(fit_data)\n",
    "    }\n",
    "    \n",
    "    get.out.fitmodel.fn <- function(dt, indices, x, y){\n",
    "        x = c(\"diff_int_HFX_vs_DFTX\", \"int_DFT_C\", \"0\")\n",
    "        y = \"int_bm - int_DFT\"\n",
    "        indep = paste(x, collapse = \" + \")\n",
    "        my.formula = paste(y, \" ~ \", indep, sep = \"\")\n",
    "        d = dt[indices,]                                       # allows boot to select sample\n",
    "        fit_data <- lm(formula = my.formula, data = d)  \n",
    "        sumfit <- summary(fit_data)\n",
    "        fit.out.dt <- c(coef(sumfit), sumfit$r.squared, classic.stats.fn(resid(sumfit)))\n",
    "        return(fit.out.dt)\n",
    "    }\n",
    "    \n",
    "    sm.get.out.fitmodel.fn <- function(dt, indices, x, y){\n",
    "        x = c(\"diff_int_HFX_vs_DFTX\", \"int_DFT_C\", \"0\")\n",
    "        y = \"int_bm - int_DFT\"\n",
    "        indep = paste(x, collapse = \" + \")\n",
    "        my.formula = paste(y, \" ~ \", indep, sep = \"\")\n",
    "        d = dt[indices,]                                       # allows boot to select sample\n",
    "        fit_data <- lm(formula = my.formula, data = d)  \n",
    "        sumfit <- summary(fit_data)\n",
    "        fit.out.dt <- c(coef(sumfit)[1:4], sumfit$r.squared, classic.stats.fn(resid(sumfit)))\n",
    "        return(fit.out.dt)\n",
    "    }\n",
    "    \n",
    "    stats.vec <- c(\"hybX.coef\", \"DFTC.coeff\", \n",
    "                 \"hybX.stderr\", \"DFTC.stderr\", \n",
    "                 \"hybX.tval\", \"DFTC.tval\", \n",
    "                 \"hybX.pval\", \"DFTC.pval\", \n",
    "                 \"R.squ\", \"MEAN\", \"MAD\", \"MAE\", \"RMSD\", \"SD\", \"Min\", \"Max\")\n",
    "    \n",
    "    stats.vec.sm <- c(\"hybX.coef\", \"DFTC.coeff\", \n",
    "                 \"hybX.stderr\", \"DFTC.stderr\", \n",
    "                 \"R.squ\", \"MEAN\", \"MAD\", \"MAE\", \"RMSD\", \"SD\", \"Min\", \"Max\")\n",
    "    \n",
    "}\n",
    "\n",
    "if (fitmod == 7) {\n",
    "    \n",
    "    fitmodel.fn <- function(dt, x, y) {\n",
    "        x = c(\"diff_int_HFX_vs_DFTX\", \"0\")\n",
    "        y = \"int_bm - int_DFT - int_DFT_C\"\n",
    "        indep = paste(x, collapse = \" + \")\n",
    "        my.formula = paste(y, \"~\", indep, sep = \"\")\n",
    "        fit_data <- lm(formula = my.formula, data = dt)\n",
    "        return(fit_data)\n",
    "    }\n",
    "    \n",
    "    get.out.fitmodel.fn <- function(dt, indices, x, y){\n",
    "        x = c(\"diff_int_HFX_vs_DFTX\", \"0\")\n",
    "        y = \"int_bm - int_DFT - int_DFT_C\"\n",
    "        indep = paste(x, collapse = \" + \")\n",
    "        my.formula = paste(y, \" ~ \", indep, sep = \"\")\n",
    "        d = dt[indices,]                                       # allows boot to select sample\n",
    "        fit_data <- lm(formula = my.formula, data = d)  \n",
    "        sumfit <- summary(fit_data)\n",
    "        fit.out.dt <- c(coef(sumfit), sumfit$r.squared, classic.stats.fn(resid(sumfit)))\n",
    "        return(fit.out.dt)\n",
    "    }\n",
    "    \n",
    "    sm.get.out.fitmodel.fn <- function(dt, indices, x, y){\n",
    "        x = c(\"diff_int_HFX_vs_DFTX\", \"0\")\n",
    "        y = \"int_bm - int_DFT - int_DFT_C\"\n",
    "        indep = paste(x, collapse = \" + \")\n",
    "        my.formula = paste(y, \" ~ \", indep, sep = \"\")\n",
    "        d = dt[indices,]                                       # allows boot to select sample\n",
    "        fit_data <- lm(formula = my.formula, data = d)  \n",
    "        sumfit <- summary(fit_data)\n",
    "        fit.out.dt <- c(coef(sumfit)[1:4], sumfit$r.squared, classic.stats.fn(resid(sumfit)))\n",
    "        return(fit.out.dt)\n",
    "    }\n",
    "    \n",
    "    stats.vec <- c(\"hybX.coeff\", \"hybX.stderr\", \"hybX.tval\", \"hybX.pval\",\n",
    "                 \"R.squ\", \"MEAN\", \"MAD\", \"MAE\", \"RMSD\", \"SD\", \"Min\", \"Max\")\n",
    "    \n",
    "    stats.vec.sm <- c(\"hybX.coeff\", \"hybX.stderr\",\n",
    "                 \"R.squ\", \"MEAN\", \"MAD\", \"MAE\", \"RMSD\", \"SD\", \"Min\", \"Max\")\n",
    "    \n",
    "}\n",
    "\n",
    "if (fitmod == 8) {\n",
    "    \n",
    "    fitmodel.fn <- function(dt, x, y) {\n",
    "        x = c(\"diff_HFX_DFTX\", \"0\")\n",
    "        y = \"int_bm - int_DFT\"\n",
    "        indep = paste(x, collapse = \" + \")\n",
    "        my.formula = paste(y, \"~\", indep, sep = \"\")\n",
    "        fit_data <- lm(formula = my.formula, data = dt)\n",
    "        return(fit_data)\n",
    "    }\n",
    "    \n",
    "    get.out.fitmodel.fn <- function(dt, indices, x, y){\n",
    "        x = c(\"diff_HFX_DFTX\", \"0\")\n",
    "        y = \"int_bm - int_DFT\"\n",
    "        indep = paste(x, collapse = \" + \")\n",
    "        my.formula = paste(y, \" ~ \", indep, sep = \"\")\n",
    "        d = dt[indices,]                                       # allows boot to select sample\n",
    "        fit_data <- lm(formula = my.formula, data = d)  \n",
    "        sumfit <- summary(fit_data)\n",
    "        fit.out.dt <- c(coef(sumfit), sumfit$r.squared, classic.stats.fn(resid(sumfit)))\n",
    "        return(fit.out.dt)\n",
    "    }\n",
    "    \n",
    "    sm.get.out.fitmodel.fn <- function(dt, indices, x, y){\n",
    "        x = c(\"diff_HFX_DFTX\", \"0\")\n",
    "        y = \"int_bm - int_DFT\"\n",
    "        indep = paste(x, collapse = \" + \")\n",
    "        my.formula = paste(y, \" ~ \", indep, sep = \"\")\n",
    "        d = dt[indices,]                                       # allows boot to select sample\n",
    "        fit_data <- lm(formula = my.formula, data = d)  \n",
    "        sumfit <- summary(fit_data)\n",
    "        fit.out.dt <- c(coef(sumfit)[1:4], sumfit$r.squared, classic.stats.fn(resid(sumfit)))\n",
    "        return(fit.out.dt)\n",
    "    }\n",
    "    \n",
    "    stats.vec <- c(\"hybX.coeff\", \"hybX.stderr\", \"hybX.tval\", \"hybX.pval\",\n",
    "                 \"R.squ\", \"MEAN\", \"MAD\", \"MAE\", \"RMSD\", \"SD\", \"Min\", \"Max\")\n",
    "    \n",
    "    stats.vec.sm <- c(\"hybX.coeff\", \"hybX.stderr\",\n",
    "                 \"R.squ\", \"MEAN\", \"MAD\", \"MAE\", \"RMSD\", \"SD\", \"Min\", \"Max\")\n",
    "    \n",
    "}\n",
    "\n"
   ]
  },
  {
   "cell_type": "markdown",
   "metadata": {},
   "source": [
    "# DFT Exchange"
   ]
  },
  {
   "cell_type": "markdown",
   "metadata": {},
   "source": [
    "## Statistics and Bootstrapping"
   ]
  },
  {
   "cell_type": "code",
   "execution_count": 13,
   "metadata": {},
   "outputs": [
    {
     "data": {
      "text/html": [
       "<table>\n",
       "<thead><tr><th scope=col>component</th><th scope=col>stat</th></tr></thead>\n",
       "<tbody>\n",
       "\t<tr><td>MEAN  </td><td>-0.333</td></tr>\n",
       "\t<tr><td>MAD   </td><td> 1.334</td></tr>\n",
       "\t<tr><td>MAE   </td><td> 1.170</td></tr>\n",
       "\t<tr><td>RMSD  </td><td> 1.583</td></tr>\n",
       "\t<tr><td>SD    </td><td> 1.559</td></tr>\n",
       "\t<tr><td>Min   </td><td>-5.600</td></tr>\n",
       "\t<tr><td>Max   </td><td> 4.000</td></tr>\n",
       "</tbody>\n",
       "</table>\n"
      ],
      "text/latex": [
       "\\begin{tabular}{r|ll}\n",
       " component & stat\\\\\n",
       "\\hline\n",
       "\t MEAN   & -0.333\\\\\n",
       "\t MAD    &  1.334\\\\\n",
       "\t MAE    &  1.170\\\\\n",
       "\t RMSD   &  1.583\\\\\n",
       "\t SD     &  1.559\\\\\n",
       "\t Min    & -5.600\\\\\n",
       "\t Max    &  4.000\\\\\n",
       "\\end{tabular}\n"
      ],
      "text/markdown": [
       "\n",
       "component | stat | \n",
       "|---|---|---|---|---|---|---|\n",
       "| MEAN   | -0.333 | \n",
       "| MAD    |  1.334 | \n",
       "| MAE    |  1.170 | \n",
       "| RMSD   |  1.583 | \n",
       "| SD     |  1.559 | \n",
       "| Min    | -5.600 | \n",
       "| Max    |  4.000 | \n",
       "\n",
       "\n"
      ],
      "text/plain": [
       "  component stat  \n",
       "1 MEAN      -0.333\n",
       "2 MAD        1.334\n",
       "3 MAE        1.170\n",
       "4 RMSD       1.583\n",
       "5 SD         1.559\n",
       "6 Min       -5.600\n",
       "7 Max        4.000"
      ]
     },
     "metadata": {},
     "output_type": "display_data"
    }
   ],
   "source": [
    "round.fn(data.frame(\"component\" = c(\"MEAN\", \"MAD\", \"MAE\", \"RMSD\", \"SD\", \"Min\", \"Max\"), \n",
    "                    \"stat\" = classic.stats.fn(data1.df$int_DFT_D3 - data1.df$int_bm)), \n",
    "         n=3)"
   ]
  },
  {
   "cell_type": "code",
   "execution_count": 35,
   "metadata": {},
   "outputs": [
    {
     "data": {
      "text/html": [
       "<table>\n",
       "<thead><tr><th scope=col>component</th><th scope=col>stat</th><th scope=col>lower</th><th scope=col>upper</th></tr></thead>\n",
       "<tbody>\n",
       "\t<tr><td>HFX.coef   </td><td> 0.694     </td><td> 0.661     </td><td> 0.736     </td></tr>\n",
       "\t<tr><td>DFTC.coeff </td><td> 1.454     </td><td> 1.313     </td><td> 1.589     </td></tr>\n",
       "\t<tr><td>HFX.stderr </td><td> 0.016     </td><td> 0.010     </td><td> 0.020     </td></tr>\n",
       "\t<tr><td>DFTC.stderr</td><td> 0.058     </td><td> 0.045     </td><td> 0.071     </td></tr>\n",
       "\t<tr><td>HFX.tval   </td><td>43.677     </td><td>30.695     </td><td>55.927     </td></tr>\n",
       "\t<tr><td>DFTC.tval  </td><td>24.873     </td><td>16.848     </td><td>30.173     </td></tr>\n",
       "\t<tr><td>HFX.pval   </td><td> 0.000     </td><td> 0.000     </td><td> 0.000     </td></tr>\n",
       "\t<tr><td>DFTC.pval  </td><td> 0.000     </td><td> 0.000     </td><td> 0.000     </td></tr>\n",
       "\t<tr><td>R.squ      </td><td> 0.999     </td><td> 0.998     </td><td> 0.999     </td></tr>\n",
       "\t<tr><td>MEAN       </td><td> 0.238     </td><td> 0.072     </td><td> 0.438     </td></tr>\n",
       "\t<tr><td>MAD        </td><td> 1.742     </td><td> 1.083     </td><td> 2.337     </td></tr>\n",
       "\t<tr><td>MAE        </td><td> 1.557     </td><td> 1.246     </td><td> 1.905     </td></tr>\n",
       "\t<tr><td>RMSD       </td><td> 2.000     </td><td> 1.692     </td><td> 2.421     </td></tr>\n",
       "\t<tr><td>SD         </td><td> 2.001     </td><td> 1.684     </td><td> 2.435     </td></tr>\n",
       "\t<tr><td>Min        </td><td>-3.532     </td><td>-4.268     </td><td>-2.378     </td></tr>\n",
       "\t<tr><td>Max        </td><td> 6.005     </td><td> 5.310     </td><td> 8.158     </td></tr>\n",
       "</tbody>\n",
       "</table>\n"
      ],
      "text/latex": [
       "\\begin{tabular}{r|llll}\n",
       " component & stat & lower & upper\\\\\n",
       "\\hline\n",
       "\t HFX.coef    &  0.694      &  0.661      &  0.736     \\\\\n",
       "\t DFTC.coeff  &  1.454      &  1.313      &  1.589     \\\\\n",
       "\t HFX.stderr  &  0.016      &  0.010      &  0.020     \\\\\n",
       "\t DFTC.stderr &  0.058      &  0.045      &  0.071     \\\\\n",
       "\t HFX.tval    & 43.677      & 30.695      & 55.927     \\\\\n",
       "\t DFTC.tval   & 24.873      & 16.848      & 30.173     \\\\\n",
       "\t HFX.pval    &  0.000      &  0.000      &  0.000     \\\\\n",
       "\t DFTC.pval   &  0.000      &  0.000      &  0.000     \\\\\n",
       "\t R.squ       &  0.999      &  0.998      &  0.999     \\\\\n",
       "\t MEAN        &  0.238      &  0.072      &  0.438     \\\\\n",
       "\t MAD         &  1.742      &  1.083      &  2.337     \\\\\n",
       "\t MAE         &  1.557      &  1.246      &  1.905     \\\\\n",
       "\t RMSD        &  2.000      &  1.692      &  2.421     \\\\\n",
       "\t SD          &  2.001      &  1.684      &  2.435     \\\\\n",
       "\t Min         & -3.532      & -4.268      & -2.378     \\\\\n",
       "\t Max         &  6.005      &  5.310      &  8.158     \\\\\n",
       "\\end{tabular}\n"
      ],
      "text/markdown": [
       "\n",
       "component | stat | lower | upper | \n",
       "|---|---|---|---|---|---|---|---|---|---|---|---|---|---|---|---|\n",
       "| HFX.coef    |  0.694      |  0.661      |  0.736      | \n",
       "| DFTC.coeff  |  1.454      |  1.313      |  1.589      | \n",
       "| HFX.stderr  |  0.016      |  0.010      |  0.020      | \n",
       "| DFTC.stderr |  0.058      |  0.045      |  0.071      | \n",
       "| HFX.tval    | 43.677      | 30.695      | 55.927      | \n",
       "| DFTC.tval   | 24.873      | 16.848      | 30.173      | \n",
       "| HFX.pval    |  0.000      |  0.000      |  0.000      | \n",
       "| DFTC.pval   |  0.000      |  0.000      |  0.000      | \n",
       "| R.squ       |  0.999      |  0.998      |  0.999      | \n",
       "| MEAN        |  0.238      |  0.072      |  0.438      | \n",
       "| MAD         |  1.742      |  1.083      |  2.337      | \n",
       "| MAE         |  1.557      |  1.246      |  1.905      | \n",
       "| RMSD        |  2.000      |  1.692      |  2.421      | \n",
       "| SD          |  2.001      |  1.684      |  2.435      | \n",
       "| Min         | -3.532      | -4.268      | -2.378      | \n",
       "| Max         |  6.005      |  5.310      |  8.158      | \n",
       "\n",
       "\n"
      ],
      "text/plain": [
       "   component   stat   lower  upper \n",
       "1  HFX.coef     0.694  0.661  0.736\n",
       "2  DFTC.coeff   1.454  1.313  1.589\n",
       "3  HFX.stderr   0.016  0.010  0.020\n",
       "4  DFTC.stderr  0.058  0.045  0.071\n",
       "5  HFX.tval    43.677 30.695 55.927\n",
       "6  DFTC.tval   24.873 16.848 30.173\n",
       "7  HFX.pval     0.000  0.000  0.000\n",
       "8  DFTC.pval    0.000  0.000  0.000\n",
       "9  R.squ        0.999  0.998  0.999\n",
       "10 MEAN         0.238  0.072  0.438\n",
       "11 MAD          1.742  1.083  2.337\n",
       "12 MAE          1.557  1.246  1.905\n",
       "13 RMSD         2.000  1.692  2.421\n",
       "14 SD           2.001  1.684  2.435\n",
       "15 Min         -3.532 -4.268 -2.378\n",
       "16 Max          6.005  5.310  8.158"
      ]
     },
     "metadata": {},
     "output_type": "display_data"
    }
   ],
   "source": [
    "round.fn(dt = data.frame(ci.out.fn(dt = data1.df, boot_comp = stats.vec, stat.fn = get.out.fitmodel.fn)),\n",
    "         n = 3)"
   ]
  },
  {
   "cell_type": "code",
   "execution_count": 11,
   "metadata": {},
   "outputs": [
    {
     "data": {
      "text/html": [
       "<table>\n",
       "<thead><tr><th scope=col>component</th><th scope=col>stat</th></tr></thead>\n",
       "<tbody>\n",
       "\t<tr><td>MEAN   </td><td>  1.732</td></tr>\n",
       "\t<tr><td>MAD    </td><td> 10.823</td></tr>\n",
       "\t<tr><td>MAE    </td><td>  9.049</td></tr>\n",
       "\t<tr><td>RMSD   </td><td> 10.855</td></tr>\n",
       "\t<tr><td>SD     </td><td> 10.744</td></tr>\n",
       "\t<tr><td>Min    </td><td>-25.250</td></tr>\n",
       "\t<tr><td>Max    </td><td> 30.125</td></tr>\n",
       "</tbody>\n",
       "</table>\n"
      ],
      "text/latex": [
       "\\begin{tabular}{r|ll}\n",
       " component & stat\\\\\n",
       "\\hline\n",
       "\t MEAN    &   1.732\\\\\n",
       "\t MAD     &  10.823\\\\\n",
       "\t MAE     &   9.049\\\\\n",
       "\t RMSD    &  10.855\\\\\n",
       "\t SD      &  10.744\\\\\n",
       "\t Min     & -25.250\\\\\n",
       "\t Max     &  30.125\\\\\n",
       "\\end{tabular}\n"
      ],
      "text/markdown": [
       "\n",
       "component | stat | \n",
       "|---|---|---|---|---|---|---|\n",
       "| MEAN    |   1.732 | \n",
       "| MAD     |  10.823 | \n",
       "| MAE     |   9.049 | \n",
       "| RMSD    |  10.855 | \n",
       "| SD      |  10.744 | \n",
       "| Min     | -25.250 | \n",
       "| Max     |  30.125 | \n",
       "\n",
       "\n"
      ],
      "text/plain": [
       "  component stat   \n",
       "1 MEAN        1.732\n",
       "2 MAD        10.823\n",
       "3 MAE         9.049\n",
       "4 RMSD       10.855\n",
       "5 SD         10.744\n",
       "6 Min       -25.250\n",
       "7 Max        30.125"
      ]
     },
     "metadata": {},
     "output_type": "display_data"
    }
   ],
   "source": [
    "# Using hybrid coefficient a = 0.25 from literature\n",
    "\n",
    "data1.df[\"int_DFT_hyb\"] <- data1.df$int_DFT + 0.25*(data1.df$int_HF_X - data1.df$int_DFT_X) \n",
    "\n",
    "round.fn(data.frame(\"component\" = c(\"MEAN\", \"MAD\", \"MAE\", \"RMSD\", \"SD\", \"Min\", \"Max\"), \n",
    "                    \"stat\" = classic.stats.fn(data1.df$int_DFT_hyb - data1.df$int_bm)), \n",
    "         n=3)"
   ]
  },
  {
   "cell_type": "raw",
   "metadata": {},
   "source": [
    "# Creating a new empty list for bootstrapping dataframes\n",
    "bstr_list <- list()\n",
    "\n",
    "# Looping through all dataframes and bootstrapping them\n",
    "for (x in names(ndata)) {\n",
    "    name = paste(\"bstr_\", x, sep=\"\")\n",
    "    f <- data.frame(ci.out.fn(dt = ndata[[x]], boot_comp = stats.vec, stat.fn = get.out.fitmodel.fn))\n",
    "    f <- round.fn(dt = f, n = 3)\n",
    "    bstr_list[[name]] <- f\n",
    "}"
   ]
  },
  {
   "cell_type": "raw",
   "metadata": {},
   "source": [
    "write.csv(bstr_list, file = \"bstr.csv\")"
   ]
  },
  {
   "cell_type": "markdown",
   "metadata": {},
   "source": [
    "### Systems with the absolute error > 4 kJ/mol"
   ]
  },
  {
   "cell_type": "code",
   "execution_count": 18,
   "metadata": {},
   "outputs": [],
   "source": [
    "# Registering your data\n",
    "gendata <- data2.df\n",
    "\n",
    "# Fitting the data once again to get the summary, without bootstrapping!\n",
    "fitmod.out <- fitmodel.fn(gendata)\n",
    "\n",
    "# Calculating the relative errors\n",
    "fitmod.df <- data.frame(gendata[col], \n",
    "                            \"abserr_int_DFTX\"=abs(resid(fitmod.out)), \n",
    "                            \"abserr_int_DFT_D3\"=abs(gendata$int_bm - gendata$int_DFT_D3),\n",
    "                            \"err_int_DFTX\"=resid(fitmod.out),\n",
    "                            \"err_int_DFT_D3\"=(gendata$int_DFT_D3 - gendata$int_bm),\n",
    "                            \"err_int_DFT\"=(gendata$int_DFT - gendata$int_bm))\n",
    "fitmod.df <- round.fn(dt = fitmod.df, n = 1)\n",
    "\n",
    "# Both DFT-X and DFT-D3 gives absolute error > 4 kJ/mol\n",
    "abserr_gt4_DFTX_and_DFTD3.dt <- fitmod.df[which(fitmod.df$abserr_int_DFTX >= 4 & fitmod.df$abserr_int_DFT_D3 >= 4), ]\n",
    "\n",
    "# Only DFT-X gives absolute error > 4 kJ/mol, while DFT-D3 < 4 kJ/mol\n",
    "abserr_gt4_DFTX.dt <- fitmod.df[which(fitmod.df$abserr_int_DFTX >= 4 & fitmod.df$abserr_int_DFT_D3 < 4), ]\n",
    "\n",
    "# Only DFT-D3 gives absolute error > 4 kJ/mol, while DFT-X < 4 kJ/mol\n",
    "abserr_gt4_DFTD3.dt <- fitmod.df[which(fitmod.df$abserr_int_DFTX < 4 & fitmod.df$abserr_int_DFT_D3 >= 4), ]\n",
    "\n",
    "# Displaying datas\n",
    "shcol <- c(\"dimer\", \"complex\", \"abserr_int_DFTX\", \"abserr_int_DFT_D3\")\n",
    "#abserr_gt4_DFTX_and_DFTD3.dt[shcol]\n",
    "#abserr_gt4_DFTX.dt[shcol]\n",
    "#abserr_gt4_DFTD3.dt[shcol]"
   ]
  },
  {
   "cell_type": "code",
   "execution_count": 21,
   "metadata": {},
   "outputs": [
    {
     "name": "stdout",
     "output_type": "stream",
     "text": [
      "     component   stat   lower  upper\n",
      "1    DFTX.coef -1.245  -1.686 -0.329\n",
      "2    HFX.coeff  0.900   0.340  1.057\n",
      "3  DFTX.stderr  0.273  -0.105  0.547\n",
      "4   HFX.stderr  0.150   0.050  0.300\n",
      "5        R.squ  0.951   0.903  0.966\n",
      "6         MEAN -0.416  -0.887  0.030\n",
      "7          MAD  1.099  -3.687  2.197\n",
      "8           SD  3.645   2.372  7.289\n",
      "9          Min -6.714 -13.428 -6.250\n",
      "10         Max  2.645   0.362  5.291\n",
      "     component   stat  lower  upper\n",
      "1    DFTX.coef -0.879 -1.054 -0.722\n",
      "2    HFX.coeff  0.768  0.674  0.869\n",
      "3  DFTX.stderr  0.088  0.004  0.131\n",
      "4   HFX.stderr  0.052  0.001  0.077\n",
      "5        R.squ  1.000  0.999  1.000\n",
      "6         MEAN  0.005 -0.040  0.047\n",
      "7          MAD  1.122  0.873  2.162\n",
      "8           SD  0.816  0.665  1.193\n",
      "9          Min -1.355 -2.124 -1.033\n",
      "10         Max  1.146  0.723  1.799\n",
      "     component   stat  lower  upper\n",
      "1    DFTX.coef -1.270 -1.404 -0.819\n",
      "2    HFX.coeff  1.001  0.741  1.083\n",
      "3  DFTX.stderr  0.085  0.041  0.118\n",
      "4   HFX.stderr  0.050  0.026  0.069\n",
      "5        R.squ  0.994  0.990  0.998\n",
      "6         MEAN -0.946 -1.662 -0.645\n",
      "7          MAD  2.781  2.179  4.980\n",
      "8           SD  2.204  1.996  3.107\n",
      "9          Min -3.567 -5.077 -2.114\n",
      "10         Max  3.138  1.526  4.705\n"
     ]
    }
   ],
   "source": [
    "fit_list = list()\n",
    "\n",
    "for (x in names(ndata)) {\n",
    "    # Registering your data\n",
    "    gendata <- ndata[[x]]\n",
    "\n",
    "    # Fitting the data once again to get the summary, without bootstrapping!\n",
    "    fitmod.out <- fitmodel.fn(gendata)\n",
    "\n",
    "    # Calculating the relative errors\n",
    "    fitmod.df <- data.frame(gendata[col], \n",
    "                                \"abserr_int_DFTX\"=abs(resid(fitmod.out)), \n",
    "                                \"abserr_int_DFT_D3\"=abs(gendata$int_bm - gendata$int_DFT_D3),\n",
    "                                \"err_int_DFTX\"=resid(fitmod.out),\n",
    "                                \"err_int_DFT_D3\"=(gendata$int_DFT_D3 - gendata$int_bm),\n",
    "                                \"err_int_DFT\"=(gendata$int_DFT - gendata$int_bm))\n",
    "    fitmod.df <- round.fn(dt = fitmod.df, n = 1)\n",
    "    name = paste(\"fit_\", x, sep=\"\")\n",
    "    fit_list[[name]] <- fitmod.df\n",
    "    \n",
    "    shcol <- c(\"dimer\", \"complex\", \"abserr_int_DFTX\", \"abserr_int_DFT_D3\")\n",
    "    \n",
    "    \n",
    "    # Both DFT-X and DFT-D3 gives absolute error > 4 kJ/mol\n",
    "    abserr_gt4_DFTX_and_DFTD3.dt <- fitmod.df[which(fitmod.df$abserr_int_DFTX >= 4 & fitmod.df$abserr_int_DFT_D3 >= 4), ]\n",
    "\n",
    "    # Only DFT-X gives absolute error > 4 kJ/mol, while DFT-D3 < 4 kJ/mol\n",
    "    abserr_gt4_DFTX.dt <- fitmod.df[which(fitmod.df$abserr_int_DFTX >= 4 & fitmod.df$abserr_int_DFT_D3 < 4), ]\n",
    "    # Additional fitting for bad systems\n",
    "    bstr_abserr_gt4_DFTX.df <- data.frame(ci.out.fn(dt = abserr_gt4_DFTX.dt, boot_comp = stats.vec.sm, stat.fn = sm.get.out.fitmodel.fn))\n",
    "    data.frame(round.fn(dt = bstr_abserr_gt4_DFTX.df, n = 3))\n",
    "\n",
    "    # Only DFT-D3 gives absolute error > 4 kJ/mol, while DFT-X < 4 kJ/mol\n",
    "    abserr_gt4_DFTD3.dt <- fitmod.df[which(fitmod.df$abserr_int_DFTX < 4 & fitmod.df$abserr_int_DFT_D3 >= 4), ]\n",
    "\n",
    "    # Displaying datas\n",
    "    abserr_gt4_DFTX_and_DFTD3.dt[shcol]\n",
    "    #abserr_gt4_DFTX.dt[shcol]\n",
    "    #abserr_gt4_DFTD3.dt[shcol]\n",
    "}"
   ]
  },
  {
   "cell_type": "markdown",
   "metadata": {},
   "source": [
    "# PLOT"
   ]
  },
  {
   "cell_type": "markdown",
   "metadata": {},
   "source": [
    "### S66"
   ]
  },
  {
   "cell_type": "code",
   "execution_count": 160,
   "metadata": {},
   "outputs": [
    {
     "ename": "ERROR",
     "evalue": "Error in eval(expr, envir, enclos): object 'fitmod.df' not found\n",
     "output_type": "error",
     "traceback": [
      "Error in eval(expr, envir, enclos): object 'fitmod.df' not found\nTraceback:\n"
     ]
    }
   ],
   "source": [
    "s66_fitmod.df <- fitmod.df\n",
    "s66_elec.df <- s66_fitmod.df[1:23,]\n",
    "s66_disp.df <- s66_fitmod.df[24:46,]\n",
    "s66_mix.df <- s66_fitmod.df[47:66,]"
   ]
  },
  {
   "cell_type": "code",
   "execution_count": 16,
   "metadata": {},
   "outputs": [],
   "source": [
    "int_type = c(rep(\"S66-electrostatics\", 23), rep(\"S66-dispersion\", 23), rep(\"S66-mixed\", 20))\n",
    "dft_func = rep(c(\"DFT\", \"DFT-D3\", \"DFTX\"), each = 66)\n",
    "err_DFT = c(rep(s66_elec.df$err_int_DFT), rep(s66_disp.df$err_int_DFT), rep(s66_mix.df$err_int_DFT))\n",
    "err_DFT_D3 = c(rep(s66_elec.df$err_int_DFT_D3), rep(s66_disp.df$err_int_DFT_D3), rep(s66_mix.df$err_int_DFT_D3))\n",
    "err_DFTX = c(rep(s66_elec.df$err_int_DFTX), rep(s66_disp.df$err_int_DFTX), rep(s66_mix.df$err_int_DFTX))\n",
    "err_data = c(rep(err_DFT), rep(err_DFT_D3), rep(err_DFTX))\n",
    "err_df <- data.frame(dft_func, int_type, err_data)\n",
    "err_df$dft_func <- factor(err_df$dft_func, levels = c(\"DFT\", \"DFT-D3\", \"DFTX\"))\n",
    "err_df$int_type <- factor(err_df$int_type, levels = c(\"S66-electrostatics\", \"S66-dispersion\", \"S66-mixed\"))\n",
    "is.num <- sapply(err_df, is.numeric)\n",
    "err_df[is.num] <- lapply(err_df[is.num], round, 1)"
   ]
  },
  {
   "cell_type": "code",
   "execution_count": 18,
   "metadata": {},
   "outputs": [
    {
     "data": {},
     "metadata": {},
     "output_type": "display_data"
    },
    {
     "data": {
      "image/png": "[encoded data removed]",
      "text/plain": [
       "plot without title"
      ]
     },
     "metadata": {},
     "output_type": "display_data"
    }
   ],
   "source": [
    "library(ggplot2)\n",
    "err_wh_box.plt <- ggplot(err_df, aes(x = dft_func, y = err_data, fill = dft_func)) + \n",
    "    geom_boxplot(alpha = 0.8, outlier.size=1.5) +\n",
    "    labs(x = \"\", y = \"Error (kJ/mol)\") +\n",
    "    facet_wrap(~int_type, ncol = 4) +\n",
    "    theme_bw() +\n",
    "    guides(fill=guide_legend(title=\"DFT Functionals\")) +\n",
    "    theme(legend.position=\"bottom\") +\n",
    "    theme(axis.text.x=element_blank(), axis.ticks.x=element_blank()) +\n",
    "    geom_hline(yintercept = -4.184, linetype = \"dashed\", color = \"red\", size = 0.25) + \n",
    "    geom_hline(yintercept = 4.184, linetype = \"dashed\", color = \"red\", size = 0.25) \n",
    "err_wh_box.plt\n",
    "ggsave(\"blyp-avtz-err-fit4.png\", err_wh_box.plt, width = 6, height = 4)  "
   ]
  },
  {
   "cell_type": "markdown",
   "metadata": {},
   "source": [
    "# Applying to IL174\n",
    "Using the coefficients obtained from the fitting of both data sets, S66 and IL-2IPs. "
   ]
  },
  {
   "cell_type": "code",
   "execution_count": 11,
   "metadata": {},
   "outputs": [],
   "source": [
    "il174_blyp_vtz.df <- read.csv(\"il174_blyp_vtz.csv\", header = TRUE, sep = \",\")\n",
    "il174_pbe_vtz.df <- read.csv(\"il174_pbe_vtz.csv\", header = TRUE, sep = \",\")"
   ]
  },
  {
   "cell_type": "code",
   "execution_count": 55,
   "metadata": {},
   "outputs": [
    {
     "data": {
      "text/html": [
       "<table>\n",
       "<thead><tr><th scope=col>component</th><th scope=col>stat</th></tr></thead>\n",
       "<tbody>\n",
       "\t<tr><td>MEAN   </td><td> -7.274</td></tr>\n",
       "\t<tr><td>MAD    </td><td>  8.154</td></tr>\n",
       "\t<tr><td>MAE    </td><td>  8.418</td></tr>\n",
       "\t<tr><td>RMSD   </td><td> 10.673</td></tr>\n",
       "\t<tr><td>SD     </td><td>  7.830</td></tr>\n",
       "\t<tr><td>Min    </td><td>-32.100</td></tr>\n",
       "\t<tr><td>Max    </td><td> 19.200</td></tr>\n",
       "</tbody>\n",
       "</table>\n"
      ],
      "text/latex": [
       "\\begin{tabular}{r|ll}\n",
       " component & stat\\\\\n",
       "\\hline\n",
       "\t MEAN    &  -7.274\\\\\n",
       "\t MAD     &   8.154\\\\\n",
       "\t MAE     &   8.418\\\\\n",
       "\t RMSD    &  10.673\\\\\n",
       "\t SD      &   7.830\\\\\n",
       "\t Min     & -32.100\\\\\n",
       "\t Max     &  19.200\\\\\n",
       "\\end{tabular}\n"
      ],
      "text/markdown": [
       "\n",
       "component | stat | \n",
       "|---|---|---|---|---|---|---|\n",
       "| MEAN    |  -7.274 | \n",
       "| MAD     |   8.154 | \n",
       "| MAE     |   8.418 | \n",
       "| RMSD    |  10.673 | \n",
       "| SD      |   7.830 | \n",
       "| Min     | -32.100 | \n",
       "| Max     |  19.200 | \n",
       "\n",
       "\n"
      ],
      "text/plain": [
       "  component stat   \n",
       "1 MEAN       -7.274\n",
       "2 MAD         8.154\n",
       "3 MAE         8.418\n",
       "4 RMSD       10.673\n",
       "5 SD          7.830\n",
       "6 Min       -32.100\n",
       "7 Max        19.200"
      ]
     },
     "metadata": {},
     "output_type": "display_data"
    },
    {
     "data": {
      "text/html": [
       "<table>\n",
       "<thead><tr><th></th><th scope=col>dimer</th><th scope=col>complex</th><th scope=col>int_DFT</th><th scope=col>int_DFT_X</th><th scope=col>int_DFT_C</th><th scope=col>int_HF_X</th><th scope=col>int_DFT_D3</th><th scope=col>int_bm</th></tr></thead>\n",
       "<tbody>\n",
       "\t<tr><th scope=row>127</th><td>il174-127    </td><td>c3mpyr-dca-p4</td><td>-337.5       </td><td>-37.8        </td><td>-29.8        </td><td>-83.2        </td><td>-355.7       </td><td>-323.6       </td></tr>\n",
       "</tbody>\n",
       "</table>\n"
      ],
      "text/latex": [
       "\\begin{tabular}{r|llllllll}\n",
       "  & dimer & complex & int\\_DFT & int\\_DFT\\_X & int\\_DFT\\_C & int\\_HF\\_X & int\\_DFT\\_D3 & int\\_bm\\\\\n",
       "\\hline\n",
       "\t127 & il174-127     & c3mpyr-dca-p4 & -337.5        & -37.8         & -29.8         & -83.2         & -355.7        & -323.6       \\\\\n",
       "\\end{tabular}\n"
      ],
      "text/markdown": [
       "\n",
       "| <!--/--> | dimer | complex | int_DFT | int_DFT_X | int_DFT_C | int_HF_X | int_DFT_D3 | int_bm | \n",
       "|---|\n",
       "| 127 | il174-127     | c3mpyr-dca-p4 | -337.5        | -37.8         | -29.8         | -83.2         | -355.7        | -323.6        | \n",
       "\n",
       "\n"
      ],
      "text/plain": [
       "    dimer     complex       int_DFT int_DFT_X int_DFT_C int_HF_X int_DFT_D3\n",
       "127 il174-127 c3mpyr-dca-p4 -337.5  -37.8     -29.8     -83.2    -355.7    \n",
       "    int_bm\n",
       "127 -323.6"
      ]
     },
     "metadata": {},
     "output_type": "display_data"
    }
   ],
   "source": [
    "round.fn(data.frame(\"component\" = c(\"MEAN\", \"MAD\", \"MAE\", \"RMSD\", \"SD\", \"Min\", \"Max\") ,\"stat\" = classic.stats.fn(il174_pbe_vtz.df$int_DFT_D3 - il174_pbe_vtz.df$int_bm)), n = 3)\n",
    "il174_pbe_vtz.df[which((il174_pbe_vtz.df$int_DFT_D3 - il174_pbe_vtz.df$int_bm) == min((il174_pbe_vtz.df$int_DFT_D3 - il174_pbe_vtz.df$int_bm))),]"
   ]
  },
  {
   "cell_type": "code",
   "execution_count": 57,
   "metadata": {},
   "outputs": [
    {
     "data": {
      "text/html": [
       "<table>\n",
       "<thead><tr><th scope=col>component</th><th scope=col>stat</th></tr></thead>\n",
       "<tbody>\n",
       "\t<tr><td>MEAN   </td><td> -7.206</td></tr>\n",
       "\t<tr><td>MAD    </td><td>  4.744</td></tr>\n",
       "\t<tr><td>MAE    </td><td>  7.625</td></tr>\n",
       "\t<tr><td>RMSD   </td><td>  8.734</td></tr>\n",
       "\t<tr><td>SD     </td><td>  4.947</td></tr>\n",
       "\t<tr><td>Min    </td><td>-32.400</td></tr>\n",
       "\t<tr><td>Max    </td><td> 17.200</td></tr>\n",
       "</tbody>\n",
       "</table>\n"
      ],
      "text/latex": [
       "\\begin{tabular}{r|ll}\n",
       " component & stat\\\\\n",
       "\\hline\n",
       "\t MEAN    &  -7.206\\\\\n",
       "\t MAD     &   4.744\\\\\n",
       "\t MAE     &   7.625\\\\\n",
       "\t RMSD    &   8.734\\\\\n",
       "\t SD      &   4.947\\\\\n",
       "\t Min     & -32.400\\\\\n",
       "\t Max     &  17.200\\\\\n",
       "\\end{tabular}\n"
      ],
      "text/markdown": [
       "\n",
       "component | stat | \n",
       "|---|---|---|---|---|---|---|\n",
       "| MEAN    |  -7.206 | \n",
       "| MAD     |   4.744 | \n",
       "| MAE     |   7.625 | \n",
       "| RMSD    |   8.734 | \n",
       "| SD      |   4.947 | \n",
       "| Min     | -32.400 | \n",
       "| Max     |  17.200 | \n",
       "\n",
       "\n"
      ],
      "text/plain": [
       "  component stat   \n",
       "1 MEAN       -7.206\n",
       "2 MAD         4.744\n",
       "3 MAE         7.625\n",
       "4 RMSD        8.734\n",
       "5 SD          4.947\n",
       "6 Min       -32.400\n",
       "7 Max        17.200"
      ]
     },
     "metadata": {},
     "output_type": "display_data"
    },
    {
     "data": {
      "text/html": [
       "<table>\n",
       "<thead><tr><th></th><th scope=col>dimer</th><th scope=col>complex</th><th scope=col>int_DFT</th><th scope=col>int_DFT_X</th><th scope=col>int_DFT_C</th><th scope=col>int_DFT_D3</th><th scope=col>int_HF_X</th><th scope=col>int_bm</th></tr></thead>\n",
       "<tbody>\n",
       "\t<tr><th scope=row>126</th><td>il174-126    </td><td>c3mpyr-dca-p3</td><td>-299.1       </td><td>-16.5        </td><td>-26.4        </td><td>-328.8       </td><td>-33.9        </td><td>-346         </td></tr>\n",
       "</tbody>\n",
       "</table>\n"
      ],
      "text/latex": [
       "\\begin{tabular}{r|llllllll}\n",
       "  & dimer & complex & int\\_DFT & int\\_DFT\\_X & int\\_DFT\\_C & int\\_DFT\\_D3 & int\\_HF\\_X & int\\_bm\\\\\n",
       "\\hline\n",
       "\t126 & il174-126     & c3mpyr-dca-p3 & -299.1        & -16.5         & -26.4         & -328.8        & -33.9         & -346         \\\\\n",
       "\\end{tabular}\n"
      ],
      "text/markdown": [
       "\n",
       "| <!--/--> | dimer | complex | int_DFT | int_DFT_X | int_DFT_C | int_DFT_D3 | int_HF_X | int_bm | \n",
       "|---|\n",
       "| 126 | il174-126     | c3mpyr-dca-p3 | -299.1        | -16.5         | -26.4         | -328.8        | -33.9         | -346          | \n",
       "\n",
       "\n"
      ],
      "text/plain": [
       "    dimer     complex       int_DFT int_DFT_X int_DFT_C int_DFT_D3 int_HF_X\n",
       "126 il174-126 c3mpyr-dca-p3 -299.1  -16.5     -26.4     -328.8     -33.9   \n",
       "    int_bm\n",
       "126 -346  "
      ]
     },
     "metadata": {},
     "output_type": "display_data"
    }
   ],
   "source": [
    "round.fn(data.frame(\"component\" = c(\"MEAN\", \"MAD\", \"MAE\", \"RMSD\", \"SD\", \"Min\", \"Max\") ,\"stat\" = classic.stats.fn(il174_blyp_vtz.df$int_DFT_D3 - il174_blyp_vtz.df$int_bm)), n = 3)\n",
    "il174_blyp_vtz.df[which((il174_blyp_vtz.df$int_DFT_D3 - il174_blyp_vtz.df$int_bm) == max((il174_blyp_vtz.df$int_DFT_D3 - il174_blyp_vtz.df$int_bm))),]"
   ]
  },
  {
   "cell_type": "markdown",
   "metadata": {},
   "source": [
    "### PBE/cc-pVTZ"
   ]
  },
  {
   "cell_type": "code",
   "execution_count": 46,
   "metadata": {},
   "outputs": [
    {
     "data": {
      "text/html": [
       "<table>\n",
       "<thead><tr><th scope=col>component</th><th scope=col>stat</th></tr></thead>\n",
       "<tbody>\n",
       "\t<tr><td>MEAN      </td><td>-10.100243</td></tr>\n",
       "\t<tr><td>MAD       </td><td>  4.294796</td></tr>\n",
       "\t<tr><td>MAE       </td><td> 10.392739</td></tr>\n",
       "\t<tr><td>RMSD      </td><td> 11.842894</td></tr>\n",
       "\t<tr><td>SD        </td><td>  6.200039</td></tr>\n",
       "\t<tr><td>Min       </td><td>-44.068800</td></tr>\n",
       "\t<tr><td>Max       </td><td> 22.627400</td></tr>\n",
       "</tbody>\n",
       "</table>\n"
      ],
      "text/latex": [
       "\\begin{tabular}{r|ll}\n",
       " component & stat\\\\\n",
       "\\hline\n",
       "\t MEAN       & -10.100243\\\\\n",
       "\t MAD        &   4.294796\\\\\n",
       "\t MAE        &  10.392739\\\\\n",
       "\t RMSD       &  11.842894\\\\\n",
       "\t SD         &   6.200039\\\\\n",
       "\t Min        & -44.068800\\\\\n",
       "\t Max        &  22.627400\\\\\n",
       "\\end{tabular}\n"
      ],
      "text/markdown": [
       "\n",
       "component | stat | \n",
       "|---|---|---|---|---|---|---|\n",
       "| MEAN       | -10.100243 | \n",
       "| MAD        |   4.294796 | \n",
       "| MAE        |  10.392739 | \n",
       "| RMSD       |  11.842894 | \n",
       "| SD         |   6.200039 | \n",
       "| Min        | -44.068800 | \n",
       "| Max        |  22.627400 | \n",
       "\n",
       "\n"
      ],
      "text/plain": [
       "  component stat      \n",
       "1 MEAN      -10.100243\n",
       "2 MAD         4.294796\n",
       "3 MAE        10.392739\n",
       "4 RMSD       11.842894\n",
       "5 SD          6.200039\n",
       "6 Min       -44.068800\n",
       "7 Max        22.627400"
      ]
     },
     "metadata": {},
     "output_type": "display_data"
    },
    {
     "data": {
      "text/html": [
       "<table>\n",
       "<thead><tr><th></th><th scope=col>dimer</th><th scope=col>complex</th><th scope=col>int_DFT</th><th scope=col>int_DFT_X</th><th scope=col>int_DFT_C</th><th scope=col>int_HF_X</th><th scope=col>int_DFT_D3</th><th scope=col>int_bm</th><th scope=col>int_DFT_fit</th></tr></thead>\n",
       "<tbody>\n",
       "\t<tr><th scope=row>126</th><td>il174-126    </td><td>c3mpyr-dca-p3</td><td>-311.3       </td><td>-15.6        </td><td>-21.8        </td><td>-33.9        </td><td>-326.8       </td><td>-346         </td><td>-323.3726    </td></tr>\n",
       "</tbody>\n",
       "</table>\n"
      ],
      "text/latex": [
       "\\begin{tabular}{r|lllllllll}\n",
       "  & dimer & complex & int\\_DFT & int\\_DFT\\_X & int\\_DFT\\_C & int\\_HF\\_X & int\\_DFT\\_D3 & int\\_bm & int\\_DFT\\_fit\\\\\n",
       "\\hline\n",
       "\t126 & il174-126     & c3mpyr-dca-p3 & -311.3        & -15.6         & -21.8         & -33.9         & -326.8        & -346          & -323.3726    \\\\\n",
       "\\end{tabular}\n"
      ],
      "text/markdown": [
       "\n",
       "| <!--/--> | dimer | complex | int_DFT | int_DFT_X | int_DFT_C | int_HF_X | int_DFT_D3 | int_bm | int_DFT_fit | \n",
       "|---|\n",
       "| 126 | il174-126     | c3mpyr-dca-p3 | -311.3        | -15.6         | -21.8         | -33.9         | -326.8        | -346          | -323.3726     | \n",
       "\n",
       "\n"
      ],
      "text/plain": [
       "    dimer     complex       int_DFT int_DFT_X int_DFT_C int_HF_X int_DFT_D3\n",
       "126 il174-126 c3mpyr-dca-p3 -311.3  -15.6     -21.8     -33.9    -326.8    \n",
       "    int_bm int_DFT_fit\n",
       "126 -346   -323.3726  "
      ]
     },
     "metadata": {},
     "output_type": "display_data"
    }
   ],
   "source": [
    "# Fitting Model 1\n",
    "fit.df <- il174_pbe_vtz.df\n",
    "c_DFTX <- -1.108\n",
    "c_HFX <- 0.866\n",
    "fit.df$int_DFT_fit <- fit.df$int_DFT + c_HFX*fit.df$int_HF_X + c_DFTX*fit.df$int_DFT_X\n",
    "data.frame(\"component\" = c(\"MEAN\", \"MAD\", \"MAE\", \"RMSD\", \"SD\", \"Min\", \"Max\") ,\"stat\" = classic.stats.fn(fit.df$int_DFT_fit - fit.df$int_bm))\n",
    "fit.df[which(fit.df$int_DFT_fit == max(fit.df$int_DFT_fit)),]"
   ]
  },
  {
   "cell_type": "code",
   "execution_count": 49,
   "metadata": {},
   "outputs": [
    {
     "data": {
      "text/html": [
       "<table>\n",
       "<thead><tr><th scope=col>component</th><th scope=col>stat</th></tr></thead>\n",
       "<tbody>\n",
       "\t<tr><td>MEAN   </td><td> -9.921</td></tr>\n",
       "\t<tr><td>MAD    </td><td>  4.550</td></tr>\n",
       "\t<tr><td>MAE    </td><td> 10.334</td></tr>\n",
       "\t<tr><td>RMSD   </td><td> 11.658</td></tr>\n",
       "\t<tr><td>SD     </td><td>  6.139</td></tr>\n",
       "\t<tr><td>Min    </td><td>-42.045</td></tr>\n",
       "\t<tr><td>Max    </td><td> 20.651</td></tr>\n",
       "</tbody>\n",
       "</table>\n"
      ],
      "text/latex": [
       "\\begin{tabular}{r|ll}\n",
       " component & stat\\\\\n",
       "\\hline\n",
       "\t MEAN    &  -9.921\\\\\n",
       "\t MAD     &   4.550\\\\\n",
       "\t MAE     &  10.334\\\\\n",
       "\t RMSD    &  11.658\\\\\n",
       "\t SD      &   6.139\\\\\n",
       "\t Min     & -42.045\\\\\n",
       "\t Max     &  20.651\\\\\n",
       "\\end{tabular}\n"
      ],
      "text/markdown": [
       "\n",
       "component | stat | \n",
       "|---|---|---|---|---|---|---|\n",
       "| MEAN    |  -9.921 | \n",
       "| MAD     |   4.550 | \n",
       "| MAE     |  10.334 | \n",
       "| RMSD    |  11.658 | \n",
       "| SD      |   6.139 | \n",
       "| Min     | -42.045 | \n",
       "| Max     |  20.651 | \n",
       "\n",
       "\n"
      ],
      "text/plain": [
       "  component stat   \n",
       "1 MEAN       -9.921\n",
       "2 MAD         4.550\n",
       "3 MAE        10.334\n",
       "4 RMSD       11.658\n",
       "5 SD          6.139\n",
       "6 Min       -42.045\n",
       "7 Max        20.651"
      ]
     },
     "metadata": {},
     "output_type": "display_data"
    },
    {
     "data": {
      "text/html": [
       "<table>\n",
       "<thead><tr><th></th><th scope=col>dimer</th><th scope=col>complex</th><th scope=col>int_DFT</th><th scope=col>int_DFT_X</th><th scope=col>int_DFT_C</th><th scope=col>int_HF_X</th><th scope=col>int_DFT_D3</th><th scope=col>int_bm</th><th scope=col>int_DFT_fit</th></tr></thead>\n",
       "<tbody>\n",
       "\t<tr><th scope=row>126</th><td>il174-126    </td><td>c3mpyr-dca-p3</td><td>-311.3       </td><td>-15.6        </td><td>-21.8        </td><td>-33.9        </td><td>-326.8       </td><td>-346         </td><td>-325.3485    </td></tr>\n",
       "</tbody>\n",
       "</table>\n"
      ],
      "text/latex": [
       "\\begin{tabular}{r|lllllllll}\n",
       "  & dimer & complex & int\\_DFT & int\\_DFT\\_X & int\\_DFT\\_C & int\\_HF\\_X & int\\_DFT\\_D3 & int\\_bm & int\\_DFT\\_fit\\\\\n",
       "\\hline\n",
       "\t126 & il174-126     & c3mpyr-dca-p3 & -311.3        & -15.6         & -21.8         & -33.9         & -326.8        & -346          & -325.3485    \\\\\n",
       "\\end{tabular}\n"
      ],
      "text/markdown": [
       "\n",
       "| <!--/--> | dimer | complex | int_DFT | int_DFT_X | int_DFT_C | int_HF_X | int_DFT_D3 | int_bm | int_DFT_fit | \n",
       "|---|\n",
       "| 126 | il174-126     | c3mpyr-dca-p3 | -311.3        | -15.6         | -21.8         | -33.9         | -326.8        | -346          | -325.3485     | \n",
       "\n",
       "\n"
      ],
      "text/plain": [
       "    dimer     complex       int_DFT int_DFT_X int_DFT_C int_HF_X int_DFT_D3\n",
       "126 il174-126 c3mpyr-dca-p3 -311.3  -15.6     -21.8     -33.9    -326.8    \n",
       "    int_bm int_DFT_fit\n",
       "126 -346   -325.3485  "
      ]
     },
     "metadata": {},
     "output_type": "display_data"
    }
   ],
   "source": [
    "### Fitting Model 2\n",
    "fit.df <- il174_pbe_vtz.df\n",
    "c_DFTX <- -0.963\n",
    "c_HFX <- 0.673\n",
    "c_DFTC <- 0.287\n",
    "fit.df$int_DFT_fit <- fit.df$int_DFT + c_HFX*fit.df$int_HF_X + c_DFTX*fit.df$int_DFT_X + c_DFTC*fit.df$int_DFT_C\n",
    "round.fn(data.frame(\"component\" = c(\"MEAN\", \"MAD\", \"MAE\", \"RMSD\", \"SD\", \"Min\", \"Max\") ,\"stat\" = classic.stats.fn(fit.df$int_DFT_fit - fit.df$int_bm)), n = 3)\n",
    "fit.df[which(fit.df$int_DFT_fit == max(fit.df$int_DFT_fit)),]"
   ]
  },
  {
   "cell_type": "code",
   "execution_count": 51,
   "metadata": {},
   "outputs": [
    {
     "data": {
      "text/html": [
       "<table>\n",
       "<thead><tr><th scope=col>component</th><th scope=col>stat</th></tr></thead>\n",
       "<tbody>\n",
       "\t<tr><td>MEAN   </td><td>-10.065</td></tr>\n",
       "\t<tr><td>MAD    </td><td>  4.493</td></tr>\n",
       "\t<tr><td>MAE    </td><td> 10.445</td></tr>\n",
       "\t<tr><td>RMSD   </td><td> 11.781</td></tr>\n",
       "\t<tr><td>SD     </td><td>  6.139</td></tr>\n",
       "\t<tr><td>Min    </td><td>-42.569</td></tr>\n",
       "\t<tr><td>Max    </td><td> 20.793</td></tr>\n",
       "</tbody>\n",
       "</table>\n"
      ],
      "text/latex": [
       "\\begin{tabular}{r|ll}\n",
       " component & stat\\\\\n",
       "\\hline\n",
       "\t MEAN    & -10.065\\\\\n",
       "\t MAD     &   4.493\\\\\n",
       "\t MAE     &  10.445\\\\\n",
       "\t RMSD    &  11.781\\\\\n",
       "\t SD      &   6.139\\\\\n",
       "\t Min     & -42.569\\\\\n",
       "\t Max     &  20.793\\\\\n",
       "\\end{tabular}\n"
      ],
      "text/markdown": [
       "\n",
       "component | stat | \n",
       "|---|---|---|---|---|---|---|\n",
       "| MEAN    | -10.065 | \n",
       "| MAD     |   4.493 | \n",
       "| MAE     |  10.445 | \n",
       "| RMSD    |  11.781 | \n",
       "| SD      |   6.139 | \n",
       "| Min     | -42.569 | \n",
       "| Max     |  20.793 | \n",
       "\n",
       "\n"
      ],
      "text/plain": [
       "  component stat   \n",
       "1 MEAN      -10.065\n",
       "2 MAD         4.493\n",
       "3 MAE        10.445\n",
       "4 RMSD       11.781\n",
       "5 SD          6.139\n",
       "6 Min       -42.569\n",
       "7 Max        20.793"
      ]
     },
     "metadata": {},
     "output_type": "display_data"
    },
    {
     "data": {
      "text/html": [
       "<table>\n",
       "<thead><tr><th></th><th scope=col>dimer</th><th scope=col>complex</th><th scope=col>int_DFT</th><th scope=col>int_DFT_X</th><th scope=col>int_DFT_C</th><th scope=col>int_HF_X</th><th scope=col>int_DFT_D3</th><th scope=col>int_bm</th><th scope=col>int_DFT_fit</th></tr></thead>\n",
       "<tbody>\n",
       "\t<tr><th scope=row>126</th><td>il174-126    </td><td>c3mpyr-dca-p3</td><td>-311.3       </td><td>-15.6        </td><td>-21.8        </td><td>-33.9        </td><td>-326.8       </td><td>-346         </td><td>-325.2069    </td></tr>\n",
       "</tbody>\n",
       "</table>\n"
      ],
      "text/latex": [
       "\\begin{tabular}{r|lllllllll}\n",
       "  & dimer & complex & int\\_DFT & int\\_DFT\\_X & int\\_DFT\\_C & int\\_HF\\_X & int\\_DFT\\_D3 & int\\_bm & int\\_DFT\\_fit\\\\\n",
       "\\hline\n",
       "\t126 & il174-126     & c3mpyr-dca-p3 & -311.3        & -15.6         & -21.8         & -33.9         & -326.8        & -346          & -325.2069    \\\\\n",
       "\\end{tabular}\n"
      ],
      "text/markdown": [
       "\n",
       "| <!--/--> | dimer | complex | int_DFT | int_DFT_X | int_DFT_C | int_HF_X | int_DFT_D3 | int_bm | int_DFT_fit | \n",
       "|---|\n",
       "| 126 | il174-126     | c3mpyr-dca-p3 | -311.3        | -15.6         | -21.8         | -33.9         | -326.8        | -346          | -325.2069     | \n",
       "\n",
       "\n"
      ],
      "text/plain": [
       "    dimer     complex       int_DFT int_DFT_X int_DFT_C int_HF_X int_DFT_D3\n",
       "126 il174-126 c3mpyr-dca-p3 -311.3  -15.6     -21.8     -33.9    -326.8    \n",
       "    int_bm int_DFT_fit\n",
       "126 -346   -325.2069  "
      ]
     },
     "metadata": {},
     "output_type": "display_data"
    }
   ],
   "source": [
    "# Fitting Model 4\n",
    "fit.df <- il174_pbe_vtz.df\n",
    "c_HFX <- 0.709\n",
    "c_DFTC <- 0.251\n",
    "fit.df$int_DFT_fit <- fit.df$int_DFT - fit.df$int_DFT_X + c_HFX*fit.df$int_HF_X + c_DFTC*fit.df$int_DFT_C\n",
    "round.fn(data.frame(\"component\" = c(\"MEAN\", \"MAD\", \"MAE\", \"RMSD\", \"SD\", \"Min\", \"Max\") ,\"stat\" = classic.stats.fn(fit.df$int_DFT_fit - fit.df$int_bm)), n = 3)\n",
    "fit.df[which(fit.df$int_DFT_fit == max(fit.df$int_DFT_fit)),]"
   ]
  },
  {
   "cell_type": "markdown",
   "metadata": {},
   "source": [
    "### BLYP/cc-pVTZ"
   ]
  },
  {
   "cell_type": "code",
   "execution_count": 59,
   "metadata": {},
   "outputs": [
    {
     "data": {
      "text/html": [
       "<table>\n",
       "<thead><tr><th scope=col>component</th><th scope=col>stat</th></tr></thead>\n",
       "<tbody>\n",
       "\t<tr><td>MEAN   </td><td> -9.586</td></tr>\n",
       "\t<tr><td>MAD    </td><td>  6.931</td></tr>\n",
       "\t<tr><td>MAE    </td><td> 10.177</td></tr>\n",
       "\t<tr><td>RMSD   </td><td> 12.323</td></tr>\n",
       "\t<tr><td>SD     </td><td>  7.765</td></tr>\n",
       "\t<tr><td>Min    </td><td>-45.375</td></tr>\n",
       "\t<tr><td>Max    </td><td> 29.037</td></tr>\n",
       "</tbody>\n",
       "</table>\n"
      ],
      "text/latex": [
       "\\begin{tabular}{r|ll}\n",
       " component & stat\\\\\n",
       "\\hline\n",
       "\t MEAN    &  -9.586\\\\\n",
       "\t MAD     &   6.931\\\\\n",
       "\t MAE     &  10.177\\\\\n",
       "\t RMSD    &  12.323\\\\\n",
       "\t SD      &   7.765\\\\\n",
       "\t Min     & -45.375\\\\\n",
       "\t Max     &  29.037\\\\\n",
       "\\end{tabular}\n"
      ],
      "text/markdown": [
       "\n",
       "component | stat | \n",
       "|---|---|---|---|---|---|---|\n",
       "| MEAN    |  -9.586 | \n",
       "| MAD     |   6.931 | \n",
       "| MAE     |  10.177 | \n",
       "| RMSD    |  12.323 | \n",
       "| SD      |   7.765 | \n",
       "| Min     | -45.375 | \n",
       "| Max     |  29.037 | \n",
       "\n",
       "\n"
      ],
      "text/plain": [
       "  component stat   \n",
       "1 MEAN       -9.586\n",
       "2 MAD         6.931\n",
       "3 MAE        10.177\n",
       "4 RMSD       12.323\n",
       "5 SD          7.765\n",
       "6 Min       -45.375\n",
       "7 Max        29.037"
      ]
     },
     "metadata": {},
     "output_type": "display_data"
    },
    {
     "data": {
      "text/html": [
       "<table>\n",
       "<thead><tr><th></th><th scope=col>dimer</th><th scope=col>complex</th><th scope=col>int_DFT</th><th scope=col>int_DFT_X</th><th scope=col>int_DFT_C</th><th scope=col>int_DFT_D3</th><th scope=col>int_HF_X</th><th scope=col>int_bm</th><th scope=col>int_DFT_fit</th></tr></thead>\n",
       "<tbody>\n",
       "\t<tr><th scope=row>126</th><td>il174-126    </td><td>c3mpyr-dca-p3</td><td>-299.1       </td><td>-16.5        </td><td>-26.4        </td><td>-328.8       </td><td>-33.9        </td><td>-346         </td><td>-316.9629    </td></tr>\n",
       "</tbody>\n",
       "</table>\n"
      ],
      "text/latex": [
       "\\begin{tabular}{r|lllllllll}\n",
       "  & dimer & complex & int\\_DFT & int\\_DFT\\_X & int\\_DFT\\_C & int\\_DFT\\_D3 & int\\_HF\\_X & int\\_bm & int\\_DFT\\_fit\\\\\n",
       "\\hline\n",
       "\t126 & il174-126     & c3mpyr-dca-p3 & -299.1        & -16.5         & -26.4         & -328.8        & -33.9         & -346          & -316.9629    \\\\\n",
       "\\end{tabular}\n"
      ],
      "text/markdown": [
       "\n",
       "| <!--/--> | dimer | complex | int_DFT | int_DFT_X | int_DFT_C | int_DFT_D3 | int_HF_X | int_bm | int_DFT_fit | \n",
       "|---|\n",
       "| 126 | il174-126     | c3mpyr-dca-p3 | -299.1        | -16.5         | -26.4         | -328.8        | -33.9         | -346          | -316.9629     | \n",
       "\n",
       "\n"
      ],
      "text/plain": [
       "    dimer     complex       int_DFT int_DFT_X int_DFT_C int_DFT_D3 int_HF_X\n",
       "126 il174-126 c3mpyr-dca-p3 -299.1  -16.5     -26.4     -328.8     -33.9   \n",
       "    int_bm int_DFT_fit\n",
       "126 -346   -316.9629  "
      ]
     },
     "metadata": {},
     "output_type": "display_data"
    }
   ],
   "source": [
    "# Fitting Model 1\n",
    "fit.df <- il174_blyp_vtz.df\n",
    "c_DFTX <- -1.2\n",
    "c_HFX <- 1.111\n",
    "fit.df$int_DFT_fit <- fit.df$int_DFT + c_HFX*fit.df$int_HF_X + c_DFTX*fit.df$int_DFT_X\n",
    "round.fn(data.frame(\"component\" = c(\"MEAN\", \"MAD\", \"MAE\", \"RMSD\", \"SD\", \"Min\", \"Max\") ,\"stat\" = classic.stats.fn(fit.df$int_DFT_fit - fit.df$int_bm)), n = 3)\n",
    "fit.df[which(fit.df$int_DFT_fit == max(fit.df$int_DFT_fit)),]"
   ]
  },
  {
   "cell_type": "code",
   "execution_count": 61,
   "metadata": {},
   "outputs": [
    {
     "data": {
      "text/html": [
       "<table>\n",
       "<thead><tr><th scope=col>component</th><th scope=col>stat</th></tr></thead>\n",
       "<tbody>\n",
       "\t<tr><td>MEAN   </td><td> -8.954</td></tr>\n",
       "\t<tr><td>MAD    </td><td>  6.425</td></tr>\n",
       "\t<tr><td>MAE    </td><td>  9.482</td></tr>\n",
       "\t<tr><td>RMSD   </td><td> 11.068</td></tr>\n",
       "\t<tr><td>SD     </td><td>  6.524</td></tr>\n",
       "\t<tr><td>Min    </td><td>-37.908</td></tr>\n",
       "\t<tr><td>Max    </td><td> 21.939</td></tr>\n",
       "</tbody>\n",
       "</table>\n"
      ],
      "text/latex": [
       "\\begin{tabular}{r|ll}\n",
       " component & stat\\\\\n",
       "\\hline\n",
       "\t MEAN    &  -8.954\\\\\n",
       "\t MAD     &   6.425\\\\\n",
       "\t MAE     &   9.482\\\\\n",
       "\t RMSD    &  11.068\\\\\n",
       "\t SD      &   6.524\\\\\n",
       "\t Min     & -37.908\\\\\n",
       "\t Max     &  21.939\\\\\n",
       "\\end{tabular}\n"
      ],
      "text/markdown": [
       "\n",
       "component | stat | \n",
       "|---|---|---|---|---|---|---|\n",
       "| MEAN    |  -8.954 | \n",
       "| MAD     |   6.425 | \n",
       "| MAE     |   9.482 | \n",
       "| RMSD    |  11.068 | \n",
       "| SD      |   6.524 | \n",
       "| Min     | -37.908 | \n",
       "| Max     |  21.939 | \n",
       "\n",
       "\n"
      ],
      "text/plain": [
       "  component stat   \n",
       "1 MEAN       -8.954\n",
       "2 MAD         6.425\n",
       "3 MAE         9.482\n",
       "4 RMSD       11.068\n",
       "5 SD          6.524\n",
       "6 Min       -37.908\n",
       "7 Max        21.939"
      ]
     },
     "metadata": {},
     "output_type": "display_data"
    },
    {
     "data": {
      "text/html": [
       "<table>\n",
       "<thead><tr><th></th><th scope=col>dimer</th><th scope=col>complex</th><th scope=col>int_DFT</th><th scope=col>int_DFT_X</th><th scope=col>int_DFT_C</th><th scope=col>int_DFT_D3</th><th scope=col>int_HF_X</th><th scope=col>int_bm</th><th scope=col>int_DFT_fit</th></tr></thead>\n",
       "<tbody>\n",
       "\t<tr><th scope=row>126</th><td>il174-126    </td><td>c3mpyr-dca-p3</td><td>-299.1       </td><td>-16.5        </td><td>-26.4        </td><td>-328.8       </td><td>-33.9        </td><td>-346         </td><td>-324.0612    </td></tr>\n",
       "</tbody>\n",
       "</table>\n"
      ],
      "text/latex": [
       "\\begin{tabular}{r|lllllllll}\n",
       "  & dimer & complex & int\\_DFT & int\\_DFT\\_X & int\\_DFT\\_C & int\\_DFT\\_D3 & int\\_HF\\_X & int\\_bm & int\\_DFT\\_fit\\\\\n",
       "\\hline\n",
       "\t126 & il174-126     & c3mpyr-dca-p3 & -299.1        & -16.5         & -26.4         & -328.8        & -33.9         & -346          & -324.0612    \\\\\n",
       "\\end{tabular}\n"
      ],
      "text/markdown": [
       "\n",
       "| <!--/--> | dimer | complex | int_DFT | int_DFT_X | int_DFT_C | int_DFT_D3 | int_HF_X | int_bm | int_DFT_fit | \n",
       "|---|\n",
       "| 126 | il174-126     | c3mpyr-dca-p3 | -299.1        | -16.5         | -26.4         | -328.8        | -33.9         | -346          | -324.0612     | \n",
       "\n",
       "\n"
      ],
      "text/plain": [
       "    dimer     complex       int_DFT int_DFT_X int_DFT_C int_DFT_D3 int_HF_X\n",
       "126 il174-126 c3mpyr-dca-p3 -299.1  -16.5     -26.4     -328.8     -33.9   \n",
       "    int_bm int_DFT_fit\n",
       "126 -346   -324.0612  "
      ]
     },
     "metadata": {},
     "output_type": "display_data"
    }
   ],
   "source": [
    "### Fitting Model 2\n",
    "fit.df <- il174_blyp_vtz.df\n",
    "c_DFTX <- -0.711\n",
    "c_HFX <- 0.517\n",
    "c_DFTC <- 0.726\n",
    "fit.df$int_DFT_fit <- fit.df$int_DFT + c_HFX*fit.df$int_HF_X + c_DFTX*fit.df$int_DFT_X + c_DFTC*fit.df$int_DFT_C\n",
    "round.fn(data.frame(\"component\" = c(\"MEAN\", \"MAD\", \"MAE\", \"RMSD\", \"SD\", \"Min\", \"Max\") ,\"stat\" = classic.stats.fn(fit.df$int_DFT_fit - fit.df$int_bm)), n = 3)\n",
    "fit.df[which(fit.df$int_DFT_fit == max(fit.df$int_DFT_fit)),]"
   ]
  },
  {
   "cell_type": "code",
   "execution_count": 63,
   "metadata": {},
   "outputs": [
    {
     "data": {
      "text/html": [
       "<table>\n",
       "<thead><tr><th scope=col>component</th><th scope=col>stat</th></tr></thead>\n",
       "<tbody>\n",
       "\t<tr><td>MEAN   </td><td> -9.704</td></tr>\n",
       "\t<tr><td>MAD    </td><td>  6.943</td></tr>\n",
       "\t<tr><td>MAE    </td><td> 10.196</td></tr>\n",
       "\t<tr><td>RMSD   </td><td> 12.050</td></tr>\n",
       "\t<tr><td>SD     </td><td>  7.161</td></tr>\n",
       "\t<tr><td>Min    </td><td>-42.246</td></tr>\n",
       "\t<tr><td>Max    </td><td> 24.363</td></tr>\n",
       "</tbody>\n",
       "</table>\n"
      ],
      "text/latex": [
       "\\begin{tabular}{r|ll}\n",
       " component & stat\\\\\n",
       "\\hline\n",
       "\t MEAN    &  -9.704\\\\\n",
       "\t MAD     &   6.943\\\\\n",
       "\t MAE     &  10.196\\\\\n",
       "\t RMSD    &  12.050\\\\\n",
       "\t SD      &   7.161\\\\\n",
       "\t Min     & -42.246\\\\\n",
       "\t Max     &  24.363\\\\\n",
       "\\end{tabular}\n"
      ],
      "text/markdown": [
       "\n",
       "component | stat | \n",
       "|---|---|---|---|---|---|---|\n",
       "| MEAN    |  -9.704 | \n",
       "| MAD     |   6.943 | \n",
       "| MAE     |  10.196 | \n",
       "| RMSD    |  12.050 | \n",
       "| SD      |   7.161 | \n",
       "| Min     | -42.246 | \n",
       "| Max     |  24.363 | \n",
       "\n",
       "\n"
      ],
      "text/plain": [
       "  component stat   \n",
       "1 MEAN       -9.704\n",
       "2 MAD         6.943\n",
       "3 MAE        10.196\n",
       "4 RMSD       12.050\n",
       "5 SD          7.161\n",
       "6 Min       -42.246\n",
       "7 Max        24.363"
      ]
     },
     "metadata": {},
     "output_type": "display_data"
    },
    {
     "data": {
      "text/html": [
       "<table>\n",
       "<thead><tr><th></th><th scope=col>dimer</th><th scope=col>complex</th><th scope=col>int_DFT</th><th scope=col>int_DFT_X</th><th scope=col>int_DFT_C</th><th scope=col>int_DFT_D3</th><th scope=col>int_HF_X</th><th scope=col>int_bm</th><th scope=col>int_DFT_fit</th></tr></thead>\n",
       "<tbody>\n",
       "\t<tr><th scope=row>126</th><td>il174-126    </td><td>c3mpyr-dca-p3</td><td>-299.1       </td><td>-16.5        </td><td>-26.4        </td><td>-328.8       </td><td>-33.9        </td><td>-346         </td><td>-321.6372    </td></tr>\n",
       "</tbody>\n",
       "</table>\n"
      ],
      "text/latex": [
       "\\begin{tabular}{r|lllllllll}\n",
       "  & dimer & complex & int\\_DFT & int\\_DFT\\_X & int\\_DFT\\_C & int\\_DFT\\_D3 & int\\_HF\\_X & int\\_bm & int\\_DFT\\_fit\\\\\n",
       "\\hline\n",
       "\t126 & il174-126     & c3mpyr-dca-p3 & -299.1        & -16.5         & -26.4         & -328.8        & -33.9         & -346          & -321.6372    \\\\\n",
       "\\end{tabular}\n"
      ],
      "text/markdown": [
       "\n",
       "| <!--/--> | dimer | complex | int_DFT | int_DFT_X | int_DFT_C | int_DFT_D3 | int_HF_X | int_bm | int_DFT_fit | \n",
       "|---|\n",
       "| 126 | il174-126     | c3mpyr-dca-p3 | -299.1        | -16.5         | -26.4         | -328.8        | -33.9         | -346          | -321.6372     | \n",
       "\n",
       "\n"
      ],
      "text/plain": [
       "    dimer     complex       int_DFT int_DFT_X int_DFT_C int_DFT_D3 int_HF_X\n",
       "126 il174-126 c3mpyr-dca-p3 -299.1  -16.5     -26.4     -328.8     -33.9   \n",
       "    int_bm int_DFT_fit\n",
       "126 -346   -321.6372  "
      ]
     },
     "metadata": {},
     "output_type": "display_data"
    }
   ],
   "source": [
    "# Fitting Model 4\n",
    "fit.df <- il174_blyp_vtz.df\n",
    "c_HFX <- 0.812\n",
    "c_DFTC <- 0.436\n",
    "fit.df$int_DFT_fit <- fit.df$int_DFT - fit.df$int_DFT_X + c_HFX*fit.df$int_HF_X + c_DFTC*fit.df$int_DFT_C\n",
    "round.fn(data.frame(\"component\" = c(\"MEAN\", \"MAD\", \"MAE\", \"RMSD\", \"SD\", \"Min\", \"Max\") ,\"stat\" = classic.stats.fn(fit.df$int_DFT_fit - fit.df$int_bm)), n = 3)\n",
    "fit.df[which(fit.df$int_DFT_fit == max(fit.df$int_DFT_fit)),]"
   ]
  },
  {
   "cell_type": "markdown",
   "metadata": {},
   "source": [
    "# Applying to L7\n",
    "Using the coefficients obtained from the fitting of both data sets, S66 and IL-2IPs. "
   ]
  },
  {
   "cell_type": "code",
   "execution_count": 71,
   "metadata": {},
   "outputs": [],
   "source": [
    "l7_blyp_vtz.df <- read.csv(\"l7_blyp_vtz.csv\", header = TRUE, sep = \",\")\n",
    "l7_pbe_vtz.df <- read.csv(\"l7_pbe_vtz.csv\", header = TRUE, sep = \",\")"
   ]
  },
  {
   "cell_type": "code",
   "execution_count": 72,
   "metadata": {},
   "outputs": [
    {
     "data": {
      "text/html": [
       "<table>\n",
       "<thead><tr><th scope=col>component</th><th scope=col>stat</th></tr></thead>\n",
       "<tbody>\n",
       "\t<tr><td>MEAN  </td><td> 1.797</td></tr>\n",
       "\t<tr><td>MAD   </td><td> 1.586</td></tr>\n",
       "\t<tr><td>MAE   </td><td> 4.503</td></tr>\n",
       "\t<tr><td>RMSD  </td><td> 4.899</td></tr>\n",
       "\t<tr><td>SD    </td><td> 4.993</td></tr>\n",
       "\t<tr><td>Min   </td><td>-8.120</td></tr>\n",
       "\t<tr><td>Max   </td><td> 5.620</td></tr>\n",
       "</tbody>\n",
       "</table>\n"
      ],
      "text/latex": [
       "\\begin{tabular}{r|ll}\n",
       " component & stat\\\\\n",
       "\\hline\n",
       "\t MEAN   &  1.797\\\\\n",
       "\t MAD    &  1.586\\\\\n",
       "\t MAE    &  4.503\\\\\n",
       "\t RMSD   &  4.899\\\\\n",
       "\t SD     &  4.993\\\\\n",
       "\t Min    & -8.120\\\\\n",
       "\t Max    &  5.620\\\\\n",
       "\\end{tabular}\n"
      ],
      "text/markdown": [
       "\n",
       "component | stat | \n",
       "|---|---|---|---|---|---|---|\n",
       "| MEAN   |  1.797 | \n",
       "| MAD    |  1.586 | \n",
       "| MAE    |  4.503 | \n",
       "| RMSD   |  4.899 | \n",
       "| SD     |  4.993 | \n",
       "| Min    | -8.120 | \n",
       "| Max    |  5.620 | \n",
       "\n",
       "\n"
      ],
      "text/plain": [
       "  component stat  \n",
       "1 MEAN       1.797\n",
       "2 MAD        1.586\n",
       "3 MAE        4.503\n",
       "4 RMSD       4.899\n",
       "5 SD         4.993\n",
       "6 Min       -8.120\n",
       "7 Max        5.620"
      ]
     },
     "metadata": {},
     "output_type": "display_data"
    },
    {
     "data": {
      "text/html": [
       "<table>\n",
       "<thead><tr><th scope=col>dimer</th><th scope=col>complex</th><th scope=col>int_bm</th><th scope=col>int_DFT</th><th scope=col>int_DFT_X</th><th scope=col>int_DFT_C</th><th scope=col>int_DFT_D3</th><th scope=col>int_HF_X</th></tr></thead>\n",
       "<tbody>\n",
       "</tbody>\n",
       "</table>\n"
      ],
      "text/latex": [
       "\\begin{tabular}{r|llllllll}\n",
       " dimer & complex & int\\_bm & int\\_DFT & int\\_DFT\\_X & int\\_DFT\\_C & int\\_DFT\\_D3 & int\\_HF\\_X\\\\\n",
       "\\hline\n",
       "\\end{tabular}\n"
      ],
      "text/markdown": [
       "\n",
       "dimer | complex | int_bm | int_DFT | int_DFT_X | int_DFT_C | int_DFT_D3 | int_HF_X | \n",
       "||\n",
       "\n",
       "\n"
      ],
      "text/plain": [
       "     dimer complex int_bm int_DFT int_DFT_X int_DFT_C int_DFT_D3 int_HF_X"
      ]
     },
     "metadata": {},
     "output_type": "display_data"
    }
   ],
   "source": [
    "round.fn(data.frame(\"component\" = c(\"MEAN\", \"MAD\", \"MAE\", \"RMSD\", \"SD\", \"Min\", \"Max\") ,\"stat\" = classic.stats.fn(l7_blyp_vtz.df$int_DFT_D3 - l7_blyp_vtz.df$int_bm)), n = 3)\n",
    "l7_blyp_vtz.df$\n",
    "l7_blyp_vtz.df[which((l7_blyp_vtz.df$int_DFT_D3 - l7_blyp_vtz.df$int_bm) == min((l7_blyp_vtz.df$int_DFT_D3 - l7_blyp_vtz.df$int_bm))),]"
   ]
  },
  {
   "cell_type": "code",
   "execution_count": 88,
   "metadata": {},
   "outputs": [
    {
     "data": {
      "text/html": [
       "<table>\n",
       "<thead><tr><th scope=col>dimer</th><th scope=col>complex</th><th scope=col>int_bm</th><th scope=col>int_DFT</th><th scope=col>int_DFT_X</th><th scope=col>int_DFT_C</th><th scope=col>int_DFT_D3</th><th scope=col>int_HF_X</th></tr></thead>\n",
       "<tbody>\n",
       "\t<tr><td>cluster-4106                 </td><td>octadecane-dimer             </td><td> -46.28                      </td><td> 29.5                        </td><td>-18.6                        </td><td>-48.8                        </td><td> -54.4                       </td><td> -70.9                       </td></tr>\n",
       "\t<tr><td>cluster-4107                 </td><td>guanine-trimer               </td><td> -10.04                      </td><td> 31.9                        </td><td> -0.3                        </td><td>-19.9                        </td><td>  -7.7                       </td><td> -18.4                       </td></tr>\n",
       "\t<tr><td>cluster-4108                 </td><td>circumcoronene-adenine       </td><td> -76.11                      </td><td> 40.8                        </td><td>-32.6                        </td><td>-48.7                        </td><td> -73.1                       </td><td> -89.8                       </td></tr>\n",
       "\t<tr><td>cluster-4109                 </td><td>circumcoronene-GCBasePair    </td><td>-130.75                      </td><td> 74.1                        </td><td>-49.7                        </td><td>-87.7                        </td><td>-127.3                       </td><td>-150.3                       </td></tr>\n",
       "\t<tr><td>cluster-4110                 </td><td>phenylalanine-residues-trimer</td><td>-107.78                      </td><td>-50.0                        </td><td>-97.7                        </td><td>-49.4                        </td><td>-103.3                       </td><td>-164.3                       </td></tr>\n",
       "\t<tr><td>cluster-4111                 </td><td>coronene-dimer               </td><td>-101.92                      </td><td> 63.9                        </td><td>-32.7                        </td><td>-63.3                        </td><td> -96.3                       </td><td>-105.1                       </td></tr>\n",
       "\t<tr><td>cluster-4112                 </td><td>GCGC-base-pair-stack         </td><td>     NA                      </td><td> 50.6                        </td><td>-35.9                        </td><td>-59.3                        </td><td> -62.7                       </td><td>-103.6                       </td></tr>\n",
       "</tbody>\n",
       "</table>\n"
      ],
      "text/latex": [
       "\\begin{tabular}{r|llllllll}\n",
       " dimer & complex & int\\_bm & int\\_DFT & int\\_DFT\\_X & int\\_DFT\\_C & int\\_DFT\\_D3 & int\\_HF\\_X\\\\\n",
       "\\hline\n",
       "\t cluster-4106                  & octadecane-dimer              &  -46.28                       &  29.5                         & -18.6                         & -48.8                         &  -54.4                        &  -70.9                       \\\\\n",
       "\t cluster-4107                  & guanine-trimer                &  -10.04                       &  31.9                         &  -0.3                         & -19.9                         &   -7.7                        &  -18.4                       \\\\\n",
       "\t cluster-4108                  & circumcoronene-adenine        &  -76.11                       &  40.8                         & -32.6                         & -48.7                         &  -73.1                        &  -89.8                       \\\\\n",
       "\t cluster-4109                  & circumcoronene-GCBasePair     & -130.75                       &  74.1                         & -49.7                         & -87.7                         & -127.3                        & -150.3                       \\\\\n",
       "\t cluster-4110                  & phenylalanine-residues-trimer & -107.78                       & -50.0                         & -97.7                         & -49.4                         & -103.3                        & -164.3                       \\\\\n",
       "\t cluster-4111                  & coronene-dimer                & -101.92                       &  63.9                         & -32.7                         & -63.3                         &  -96.3                        & -105.1                       \\\\\n",
       "\t cluster-4112                  & GCGC-base-pair-stack          &      NA                       &  50.6                         & -35.9                         & -59.3                         &  -62.7                        & -103.6                       \\\\\n",
       "\\end{tabular}\n"
      ],
      "text/markdown": [
       "\n",
       "dimer | complex | int_bm | int_DFT | int_DFT_X | int_DFT_C | int_DFT_D3 | int_HF_X | \n",
       "|---|---|---|---|---|---|---|\n",
       "| cluster-4106                  | octadecane-dimer              |  -46.28                       |  29.5                         | -18.6                         | -48.8                         |  -54.4                        |  -70.9                        | \n",
       "| cluster-4107                  | guanine-trimer                |  -10.04                       |  31.9                         |  -0.3                         | -19.9                         |   -7.7                        |  -18.4                        | \n",
       "| cluster-4108                  | circumcoronene-adenine        |  -76.11                       |  40.8                         | -32.6                         | -48.7                         |  -73.1                        |  -89.8                        | \n",
       "| cluster-4109                  | circumcoronene-GCBasePair     | -130.75                       |  74.1                         | -49.7                         | -87.7                         | -127.3                        | -150.3                        | \n",
       "| cluster-4110                  | phenylalanine-residues-trimer | -107.78                       | -50.0                         | -97.7                         | -49.4                         | -103.3                        | -164.3                        | \n",
       "| cluster-4111                  | coronene-dimer                | -101.92                       |  63.9                         | -32.7                         | -63.3                         |  -96.3                        | -105.1                        | \n",
       "| cluster-4112                  | GCGC-base-pair-stack          |      NA                       |  50.6                         | -35.9                         | -59.3                         |  -62.7                        | -103.6                        | \n",
       "\n",
       "\n"
      ],
      "text/plain": [
       "  dimer        complex                       int_bm  int_DFT int_DFT_X\n",
       "1 cluster-4106 octadecane-dimer               -46.28  29.5   -18.6    \n",
       "2 cluster-4107 guanine-trimer                 -10.04  31.9    -0.3    \n",
       "3 cluster-4108 circumcoronene-adenine         -76.11  40.8   -32.6    \n",
       "4 cluster-4109 circumcoronene-GCBasePair     -130.75  74.1   -49.7    \n",
       "5 cluster-4110 phenylalanine-residues-trimer -107.78 -50.0   -97.7    \n",
       "6 cluster-4111 coronene-dimer                -101.92  63.9   -32.7    \n",
       "7 cluster-4112 GCGC-base-pair-stack               NA  50.6   -35.9    \n",
       "  int_DFT_C int_DFT_D3 int_HF_X\n",
       "1 -48.8      -54.4      -70.9  \n",
       "2 -19.9       -7.7      -18.4  \n",
       "3 -48.7      -73.1      -89.8  \n",
       "4 -87.7     -127.3     -150.3  \n",
       "5 -49.4     -103.3     -164.3  \n",
       "6 -63.3      -96.3     -105.1  \n",
       "7 -59.3      -62.7     -103.6  "
      ]
     },
     "metadata": {},
     "output_type": "display_data"
    }
   ],
   "source": [
    "l7_blyp_vtz.df"
   ]
  },
  {
   "cell_type": "code",
   "execution_count": 89,
   "metadata": {},
   "outputs": [
    {
     "data": {
      "text/html": [
       "<ol class=list-inline>\n",
       "\t<li>-5.62</li>\n",
       "\t<li>4.64</li>\n",
       "\t<li>17.91</li>\n",
       "\t<li>32.15</li>\n",
       "\t<li>6.98</li>\n",
       "\t<li>26.72</li>\n",
       "\t<li>&lt;NA&gt;</li>\n",
       "</ol>\n"
      ],
      "text/latex": [
       "\\begin{enumerate*}\n",
       "\\item -5.62\n",
       "\\item 4.64\n",
       "\\item 17.91\n",
       "\\item 32.15\n",
       "\\item 6.98\n",
       "\\item 26.72\n",
       "\\item <NA>\n",
       "\\end{enumerate*}\n"
      ],
      "text/markdown": [
       "1. -5.62\n",
       "2. 4.64\n",
       "3. 17.91\n",
       "4. 32.15\n",
       "5. 6.98\n",
       "6. 26.72\n",
       "7. &lt;NA&gt;\n",
       "\n",
       "\n"
      ],
      "text/plain": [
       "[1] -5.62  4.64 17.91 32.15  6.98 26.72    NA"
      ]
     },
     "metadata": {},
     "output_type": "display_data"
    }
   ],
   "source": [
    "l7_pbe_vtz.df$int_DFT_D3 - l7_pbe_vtz.df$int_bm"
   ]
  },
  {
   "cell_type": "code",
   "execution_count": 86,
   "metadata": {},
   "outputs": [
    {
     "data": {
      "text/html": [
       "<table>\n",
       "<thead><tr><th scope=col>component</th><th scope=col>stat</th></tr></thead>\n",
       "<tbody>\n",
       "\t<tr><td>MEAN  </td><td>13.797</td></tr>\n",
       "\t<tr><td>MAD   </td><td>16.368</td></tr>\n",
       "\t<tr><td>MAE   </td><td>15.670</td></tr>\n",
       "\t<tr><td>RMSD  </td><td>19.018</td></tr>\n",
       "\t<tr><td>SD    </td><td>14.339</td></tr>\n",
       "\t<tr><td>Min   </td><td>-5.620</td></tr>\n",
       "\t<tr><td>Max   </td><td>32.150</td></tr>\n",
       "</tbody>\n",
       "</table>\n"
      ],
      "text/latex": [
       "\\begin{tabular}{r|ll}\n",
       " component & stat\\\\\n",
       "\\hline\n",
       "\t MEAN   & 13.797\\\\\n",
       "\t MAD    & 16.368\\\\\n",
       "\t MAE    & 15.670\\\\\n",
       "\t RMSD   & 19.018\\\\\n",
       "\t SD     & 14.339\\\\\n",
       "\t Min    & -5.620\\\\\n",
       "\t Max    & 32.150\\\\\n",
       "\\end{tabular}\n"
      ],
      "text/markdown": [
       "\n",
       "component | stat | \n",
       "|---|---|---|---|---|---|---|\n",
       "| MEAN   | 13.797 | \n",
       "| MAD    | 16.368 | \n",
       "| MAE    | 15.670 | \n",
       "| RMSD   | 19.018 | \n",
       "| SD     | 14.339 | \n",
       "| Min    | -5.620 | \n",
       "| Max    | 32.150 | \n",
       "\n",
       "\n"
      ],
      "text/plain": [
       "  component stat  \n",
       "1 MEAN      13.797\n",
       "2 MAD       16.368\n",
       "3 MAE       15.670\n",
       "4 RMSD      19.018\n",
       "5 SD        14.339\n",
       "6 Min       -5.620\n",
       "7 Max       32.150"
      ]
     },
     "metadata": {},
     "output_type": "display_data"
    },
    {
     "data": {
      "text/html": [
       "<table>\n",
       "<thead><tr><th scope=col>dimer</th><th scope=col>complex</th><th scope=col>int_bm</th><th scope=col>int_DFT</th><th scope=col>int_DFT_X</th><th scope=col>int_DFT_C</th><th scope=col>int_DFT_D3</th><th scope=col>int_HF_X</th></tr></thead>\n",
       "<tbody>\n",
       "</tbody>\n",
       "</table>\n"
      ],
      "text/latex": [
       "\\begin{tabular}{r|llllllll}\n",
       " dimer & complex & int\\_bm & int\\_DFT & int\\_DFT\\_X & int\\_DFT\\_C & int\\_DFT\\_D3 & int\\_HF\\_X\\\\\n",
       "\\hline\n",
       "\\end{tabular}\n"
      ],
      "text/markdown": [
       "\n",
       "dimer | complex | int_bm | int_DFT | int_DFT_X | int_DFT_C | int_DFT_D3 | int_HF_X | \n",
       "||\n",
       "\n",
       "\n"
      ],
      "text/plain": [
       "     dimer complex int_bm int_DFT int_DFT_X int_DFT_C int_DFT_D3 int_HF_X"
      ]
     },
     "metadata": {},
     "output_type": "display_data"
    }
   ],
   "source": [
    "round.fn(data.frame(\"component\" = c(\"MEAN\", \"MAD\", \"MAE\", \"RMSD\", \"SD\", \"Min\", \"Max\") ,\"stat\" = classic.stats.fn(l7_pbe_vtz.df$int_DFT_D3 - l7_pbe_vtz.df$int_bm)), n = 3)\n",
    "l7_pbe_vtz.df[which((l7_pbe_vtz.df$int_DFT_D3 - l7_pbe_vtz.df$int_bm) == min(l7_pbe_vtz.df$int_DFT_D3 - l7_pbe_vtz.df$int_bm)),]"
   ]
  },
  {
   "cell_type": "markdown",
   "metadata": {},
   "source": [
    "### PBE/cc-pVTZ"
   ]
  },
  {
   "cell_type": "code",
   "execution_count": 74,
   "metadata": {},
   "outputs": [
    {
     "data": {
      "text/html": [
       "<table>\n",
       "<thead><tr><th scope=col>component</th><th scope=col>stat</th></tr></thead>\n",
       "<tbody>\n",
       "\t<tr><td>MEAN  </td><td>38.012</td></tr>\n",
       "\t<tr><td>MAD   </td><td>30.926</td></tr>\n",
       "\t<tr><td>MAE   </td><td>38.012</td></tr>\n",
       "\t<tr><td>RMSD  </td><td>44.462</td></tr>\n",
       "\t<tr><td>SD    </td><td>25.266</td></tr>\n",
       "\t<tr><td>Min   </td><td> 9.155</td></tr>\n",
       "\t<tr><td>Max   </td><td>71.577</td></tr>\n",
       "</tbody>\n",
       "</table>\n"
      ],
      "text/latex": [
       "\\begin{tabular}{r|ll}\n",
       " component & stat\\\\\n",
       "\\hline\n",
       "\t MEAN   & 38.012\\\\\n",
       "\t MAD    & 30.926\\\\\n",
       "\t MAE    & 38.012\\\\\n",
       "\t RMSD   & 44.462\\\\\n",
       "\t SD     & 25.266\\\\\n",
       "\t Min    &  9.155\\\\\n",
       "\t Max    & 71.577\\\\\n",
       "\\end{tabular}\n"
      ],
      "text/markdown": [
       "\n",
       "component | stat | \n",
       "|---|---|---|---|---|---|---|\n",
       "| MEAN   | 38.012 | \n",
       "| MAD    | 30.926 | \n",
       "| MAE    | 38.012 | \n",
       "| RMSD   | 44.462 | \n",
       "| SD     | 25.266 | \n",
       "| Min    |  9.155 | \n",
       "| Max    | 71.577 | \n",
       "\n",
       "\n"
      ],
      "text/plain": [
       "  component stat  \n",
       "1 MEAN      38.012\n",
       "2 MAD       30.926\n",
       "3 MAE       38.012\n",
       "4 RMSD      44.462\n",
       "5 SD        25.266\n",
       "6 Min        9.155\n",
       "7 Max       71.577"
      ]
     },
     "metadata": {},
     "output_type": "display_data"
    },
    {
     "data": {
      "text/html": [
       "<table>\n",
       "<thead><tr><th></th><th scope=col>dimer</th><th scope=col>complex</th><th scope=col>int_bm</th><th scope=col>int_DFT</th><th scope=col>int_DFT_X</th><th scope=col>int_DFT_C</th><th scope=col>int_DFT_D3</th><th scope=col>int_HF_X</th><th scope=col>int_DFT_fit</th></tr></thead>\n",
       "<tbody>\n",
       "\t<tr><th scope=row>2</th><td>cluster-4107  </td><td>guanine-trimer</td><td>-10.04        </td><td>18.5          </td><td>-4            </td><td>-15           </td><td>-5.4          </td><td>-18.4         </td><td>6.9976        </td></tr>\n",
       "</tbody>\n",
       "</table>\n"
      ],
      "text/latex": [
       "\\begin{tabular}{r|lllllllll}\n",
       "  & dimer & complex & int\\_bm & int\\_DFT & int\\_DFT\\_X & int\\_DFT\\_C & int\\_DFT\\_D3 & int\\_HF\\_X & int\\_DFT\\_fit\\\\\n",
       "\\hline\n",
       "\t2 & cluster-4107   & guanine-trimer & -10.04         & 18.5           & -4             & -15            & -5.4           & -18.4          & 6.9976        \\\\\n",
       "\\end{tabular}\n"
      ],
      "text/markdown": [
       "\n",
       "| <!--/--> | dimer | complex | int_bm | int_DFT | int_DFT_X | int_DFT_C | int_DFT_D3 | int_HF_X | int_DFT_fit | \n",
       "|---|\n",
       "| 2 | cluster-4107   | guanine-trimer | -10.04         | 18.5           | -4             | -15            | -5.4           | -18.4          | 6.9976         | \n",
       "\n",
       "\n"
      ],
      "text/plain": [
       "  dimer        complex        int_bm int_DFT int_DFT_X int_DFT_C int_DFT_D3\n",
       "2 cluster-4107 guanine-trimer -10.04 18.5    -4        -15       -5.4      \n",
       "  int_HF_X int_DFT_fit\n",
       "2 -18.4    6.9976     "
      ]
     },
     "metadata": {},
     "output_type": "display_data"
    }
   ],
   "source": [
    "# Fitting Model 1\n",
    "fit.df <- l7_pbe_vtz.df\n",
    "c_DFTX <- -1.108\n",
    "c_HFX <- 0.866\n",
    "fit.df$int_DFT_fit <- fit.df$int_DFT + c_HFX*fit.df$int_HF_X + c_DFTX*fit.df$int_DFT_X\n",
    "round.fn(data.frame(\"component\" = c(\"MEAN\", \"MAD\", \"MAE\", \"RMSD\", \"SD\", \"Min\", \"Max\") ,\"stat\" = classic.stats.fn(fit.df$int_DFT_fit - fit.df$int_bm)), n = 3)\n",
    "fit.df[which(fit.df$int_DFT_fit == max(fit.df$int_DFT_fit)),]"
   ]
  },
  {
   "cell_type": "code",
   "execution_count": 77,
   "metadata": {},
   "outputs": [
    {
     "data": {
      "text/html": [
       "<table>\n",
       "<thead><tr><th scope=col>component</th><th scope=col>stat</th></tr></thead>\n",
       "<tbody>\n",
       "\t<tr><td>MEAN  </td><td>38.610</td></tr>\n",
       "\t<tr><td>MAD   </td><td>28.012</td></tr>\n",
       "\t<tr><td>MAE   </td><td>38.610</td></tr>\n",
       "\t<tr><td>RMSD  </td><td>44.505</td></tr>\n",
       "\t<tr><td>SD    </td><td>24.249</td></tr>\n",
       "\t<tr><td>Min   </td><td>14.537</td></tr>\n",
       "\t<tr><td>Max   </td><td>71.390</td></tr>\n",
       "</tbody>\n",
       "</table>\n"
      ],
      "text/latex": [
       "\\begin{tabular}{r|ll}\n",
       " component & stat\\\\\n",
       "\\hline\n",
       "\t MEAN   & 38.610\\\\\n",
       "\t MAD    & 28.012\\\\\n",
       "\t MAE    & 38.610\\\\\n",
       "\t RMSD   & 44.505\\\\\n",
       "\t SD     & 24.249\\\\\n",
       "\t Min    & 14.537\\\\\n",
       "\t Max    & 71.390\\\\\n",
       "\\end{tabular}\n"
      ],
      "text/markdown": [
       "\n",
       "component | stat | \n",
       "|---|---|---|---|---|---|---|\n",
       "| MEAN   | 38.610 | \n",
       "| MAD    | 28.012 | \n",
       "| MAE    | 38.610 | \n",
       "| RMSD   | 44.505 | \n",
       "| SD     | 24.249 | \n",
       "| Min    | 14.537 | \n",
       "| Max    | 71.390 | \n",
       "\n",
       "\n"
      ],
      "text/plain": [
       "  component stat  \n",
       "1 MEAN      38.610\n",
       "2 MAD       28.012\n",
       "3 MAE       38.610\n",
       "4 RMSD      44.505\n",
       "5 SD        24.249\n",
       "6 Min       14.537\n",
       "7 Max       71.390"
      ]
     },
     "metadata": {},
     "output_type": "display_data"
    },
    {
     "data": {
      "text/html": [
       "<table>\n",
       "<thead><tr><th></th><th scope=col>dimer</th><th scope=col>complex</th><th scope=col>int_bm</th><th scope=col>int_DFT</th><th scope=col>int_DFT_X</th><th scope=col>int_DFT_C</th><th scope=col>int_DFT_D3</th><th scope=col>int_HF_X</th><th scope=col>int_DFT_fit</th></tr></thead>\n",
       "<tbody>\n",
       "\t<tr><th scope=row>2</th><td>cluster-4107  </td><td>guanine-trimer</td><td>-10.04        </td><td>18.5          </td><td>-4            </td><td>-15           </td><td>-5.4          </td><td>-18.4         </td><td>5.6638        </td></tr>\n",
       "</tbody>\n",
       "</table>\n"
      ],
      "text/latex": [
       "\\begin{tabular}{r|lllllllll}\n",
       "  & dimer & complex & int\\_bm & int\\_DFT & int\\_DFT\\_X & int\\_DFT\\_C & int\\_DFT\\_D3 & int\\_HF\\_X & int\\_DFT\\_fit\\\\\n",
       "\\hline\n",
       "\t2 & cluster-4107   & guanine-trimer & -10.04         & 18.5           & -4             & -15            & -5.4           & -18.4          & 5.6638        \\\\\n",
       "\\end{tabular}\n"
      ],
      "text/markdown": [
       "\n",
       "| <!--/--> | dimer | complex | int_bm | int_DFT | int_DFT_X | int_DFT_C | int_DFT_D3 | int_HF_X | int_DFT_fit | \n",
       "|---|\n",
       "| 2 | cluster-4107   | guanine-trimer | -10.04         | 18.5           | -4             | -15            | -5.4           | -18.4          | 5.6638         | \n",
       "\n",
       "\n"
      ],
      "text/plain": [
       "  dimer        complex        int_bm int_DFT int_DFT_X int_DFT_C int_DFT_D3\n",
       "2 cluster-4107 guanine-trimer -10.04 18.5    -4        -15       -5.4      \n",
       "  int_HF_X int_DFT_fit\n",
       "2 -18.4    5.6638     "
      ]
     },
     "metadata": {},
     "output_type": "display_data"
    }
   ],
   "source": [
    "# Fitting Model 2\n",
    "fit.df <- l7_pbe_vtz.df\n",
    "c_DFTX <- -0.963\n",
    "c_HFX <- 0.673\n",
    "c_DFTC <- 0.287\n",
    "fit.df$int_DFT_fit <- fit.df$int_DFT + c_HFX*fit.df$int_HF_X + c_DFTX*fit.df$int_DFT_X + c_DFTC*fit.df$int_DFT_C\n",
    "round.fn(data.frame(\"component\" = c(\"MEAN\", \"MAD\", \"MAE\", \"RMSD\", \"SD\", \"Min\", \"Max\") ,\"stat\" = classic.stats.fn(fit.df$int_DFT_fit - fit.df$int_bm)), n = 3)\n",
    "fit.df[which(fit.df$int_DFT_fit == max(fit.df$int_DFT_fit)),]"
   ]
  },
  {
   "cell_type": "code",
   "execution_count": 79,
   "metadata": {},
   "outputs": [
    {
     "data": {
      "text/html": [
       "<table>\n",
       "<thead><tr><th scope=col>component</th><th scope=col>stat</th></tr></thead>\n",
       "<tbody>\n",
       "\t<tr><td>MEAN   </td><td> 42.898</td></tr>\n",
       "\t<tr><td>MAD    </td><td> 66.127</td></tr>\n",
       "\t<tr><td>MAE    </td><td> 64.302</td></tr>\n",
       "\t<tr><td>RMSD   </td><td> 73.899</td></tr>\n",
       "\t<tr><td>SD     </td><td> 65.916</td></tr>\n",
       "\t<tr><td>Min    </td><td>-64.211</td></tr>\n",
       "\t<tr><td>Max    </td><td>115.994</td></tr>\n",
       "</tbody>\n",
       "</table>\n"
      ],
      "text/latex": [
       "\\begin{tabular}{r|ll}\n",
       " component & stat\\\\\n",
       "\\hline\n",
       "\t MEAN    &  42.898\\\\\n",
       "\t MAD     &  66.127\\\\\n",
       "\t MAE     &  64.302\\\\\n",
       "\t RMSD    &  73.899\\\\\n",
       "\t SD      &  65.916\\\\\n",
       "\t Min     & -64.211\\\\\n",
       "\t Max     & 115.994\\\\\n",
       "\\end{tabular}\n"
      ],
      "text/markdown": [
       "\n",
       "component | stat | \n",
       "|---|---|---|---|---|---|---|\n",
       "| MEAN    |  42.898 | \n",
       "| MAD     |  66.127 | \n",
       "| MAE     |  64.302 | \n",
       "| RMSD    |  73.899 | \n",
       "| SD      |  65.916 | \n",
       "| Min     | -64.211 | \n",
       "| Max     | 115.994 | \n",
       "\n",
       "\n"
      ],
      "text/plain": [
       "  component stat   \n",
       "1 MEAN       42.898\n",
       "2 MAD        66.127\n",
       "3 MAE        64.302\n",
       "4 RMSD       73.899\n",
       "5 SD         65.916\n",
       "6 Min       -64.211\n",
       "7 Max       115.994"
      ]
     },
     "metadata": {},
     "output_type": "display_data"
    },
    {
     "data": {
      "text/html": [
       "<table>\n",
       "<thead><tr><th></th><th scope=col>dimer</th><th scope=col>complex</th><th scope=col>int_bm</th><th scope=col>int_DFT</th><th scope=col>int_DFT_X</th><th scope=col>int_DFT_C</th><th scope=col>int_DFT_D3</th><th scope=col>int_HF_X</th><th scope=col>int_DFT_fit</th></tr></thead>\n",
       "<tbody>\n",
       "\t<tr><th scope=row>2</th><td>cluster-4107  </td><td>guanine-trimer</td><td>-10.04        </td><td>18.5          </td><td>-4            </td><td>-15           </td><td>-5.4          </td><td>-18.4         </td><td>19.4504       </td></tr>\n",
       "</tbody>\n",
       "</table>\n"
      ],
      "text/latex": [
       "\\begin{tabular}{r|lllllllll}\n",
       "  & dimer & complex & int\\_bm & int\\_DFT & int\\_DFT\\_X & int\\_DFT\\_C & int\\_DFT\\_D3 & int\\_HF\\_X & int\\_DFT\\_fit\\\\\n",
       "\\hline\n",
       "\t2 & cluster-4107   & guanine-trimer & -10.04         & 18.5           & -4             & -15            & -5.4           & -18.4          & 19.4504       \\\\\n",
       "\\end{tabular}\n"
      ],
      "text/markdown": [
       "\n",
       "| <!--/--> | dimer | complex | int_bm | int_DFT | int_DFT_X | int_DFT_C | int_DFT_D3 | int_HF_X | int_DFT_fit | \n",
       "|---|\n",
       "| 2 | cluster-4107   | guanine-trimer | -10.04         | 18.5           | -4             | -15            | -5.4           | -18.4          | 19.4504        | \n",
       "\n",
       "\n"
      ],
      "text/plain": [
       "  dimer        complex        int_bm int_DFT int_DFT_X int_DFT_C int_DFT_D3\n",
       "2 cluster-4107 guanine-trimer -10.04 18.5    -4        -15       -5.4      \n",
       "  int_HF_X int_DFT_fit\n",
       "2 -18.4    19.4504    "
      ]
     },
     "metadata": {},
     "output_type": "display_data"
    }
   ],
   "source": [
    "# Fitting Model 4\n",
    "fit.df <- l7_pbe_vtz.df\n",
    "c_HFX <- 0.709\n",
    "c_DFTX <- 0.251\n",
    "fit.df$int_DFT_fit <- fit.df$int_DFT + c_HFX*fit.df$int_HF_X + c_DFTX*fit.df$int_DFT_X - fit.df$int_DFT_C\n",
    "round.fn(data.frame(\"component\" = c(\"MEAN\", \"MAD\", \"MAE\", \"RMSD\", \"SD\", \"Min\", \"Max\") ,\"stat\" = classic.stats.fn(fit.df$int_DFT_fit - fit.df$int_bm)), n = 3)\n",
    "fit.df[which(fit.df$int_DFT_fit == max(fit.df$int_DFT_fit)),]"
   ]
  },
  {
   "cell_type": "markdown",
   "metadata": {},
   "source": [
    "### BLYP/cc-pVTZ"
   ]
  },
  {
   "cell_type": "code",
   "execution_count": 81,
   "metadata": {},
   "outputs": [
    {
     "data": {
      "text/html": [
       "<table>\n",
       "<thead><tr><th scope=col>component</th><th scope=col>stat</th></tr></thead>\n",
       "<tbody>\n",
       "\t<tr><td>MEAN  </td><td>45.956</td></tr>\n",
       "\t<tr><td>MAD   </td><td>49.153</td></tr>\n",
       "\t<tr><td>MAE   </td><td>48.461</td></tr>\n",
       "\t<tr><td>RMSD  </td><td>59.689</td></tr>\n",
       "\t<tr><td>SD    </td><td>41.726</td></tr>\n",
       "\t<tr><td>Min   </td><td>-7.517</td></tr>\n",
       "\t<tr><td>Max   </td><td>97.507</td></tr>\n",
       "</tbody>\n",
       "</table>\n"
      ],
      "text/latex": [
       "\\begin{tabular}{r|ll}\n",
       " component & stat\\\\\n",
       "\\hline\n",
       "\t MEAN   & 45.956\\\\\n",
       "\t MAD    & 49.153\\\\\n",
       "\t MAE    & 48.461\\\\\n",
       "\t RMSD   & 59.689\\\\\n",
       "\t SD     & 41.726\\\\\n",
       "\t Min    & -7.517\\\\\n",
       "\t Max    & 97.507\\\\\n",
       "\\end{tabular}\n"
      ],
      "text/markdown": [
       "\n",
       "component | stat | \n",
       "|---|---|---|---|---|---|---|\n",
       "| MEAN   | 45.956 | \n",
       "| MAD    | 49.153 | \n",
       "| MAE    | 48.461 | \n",
       "| RMSD   | 59.689 | \n",
       "| SD     | 41.726 | \n",
       "| Min    | -7.517 | \n",
       "| Max    | 97.507 | \n",
       "\n",
       "\n"
      ],
      "text/plain": [
       "  component stat  \n",
       "1 MEAN      45.956\n",
       "2 MAD       49.153\n",
       "3 MAE       48.461\n",
       "4 RMSD      59.689\n",
       "5 SD        41.726\n",
       "6 Min       -7.517\n",
       "7 Max       97.507"
      ]
     },
     "metadata": {},
     "output_type": "display_data"
    },
    {
     "data": {
      "text/html": [
       "<table>\n",
       "<thead><tr><th></th><th scope=col>dimer</th><th scope=col>complex</th><th scope=col>int_bm</th><th scope=col>int_DFT</th><th scope=col>int_DFT_X</th><th scope=col>int_DFT_C</th><th scope=col>int_DFT_D3</th><th scope=col>int_HF_X</th><th scope=col>int_DFT_fit</th></tr></thead>\n",
       "<tbody>\n",
       "\t<tr><th scope=row>2</th><td>cluster-4107  </td><td>guanine-trimer</td><td>-10.04        </td><td>31.9          </td><td>-0.3          </td><td>-19.9         </td><td>-7.7          </td><td>-18.4         </td><td>11.8176       </td></tr>\n",
       "</tbody>\n",
       "</table>\n"
      ],
      "text/latex": [
       "\\begin{tabular}{r|lllllllll}\n",
       "  & dimer & complex & int\\_bm & int\\_DFT & int\\_DFT\\_X & int\\_DFT\\_C & int\\_DFT\\_D3 & int\\_HF\\_X & int\\_DFT\\_fit\\\\\n",
       "\\hline\n",
       "\t2 & cluster-4107   & guanine-trimer & -10.04         & 31.9           & -0.3           & -19.9          & -7.7           & -18.4          & 11.8176       \\\\\n",
       "\\end{tabular}\n"
      ],
      "text/markdown": [
       "\n",
       "| <!--/--> | dimer | complex | int_bm | int_DFT | int_DFT_X | int_DFT_C | int_DFT_D3 | int_HF_X | int_DFT_fit | \n",
       "|---|\n",
       "| 2 | cluster-4107   | guanine-trimer | -10.04         | 31.9           | -0.3           | -19.9          | -7.7           | -18.4          | 11.8176        | \n",
       "\n",
       "\n"
      ],
      "text/plain": [
       "  dimer        complex        int_bm int_DFT int_DFT_X int_DFT_C int_DFT_D3\n",
       "2 cluster-4107 guanine-trimer -10.04 31.9    -0.3      -19.9     -7.7      \n",
       "  int_HF_X int_DFT_fit\n",
       "2 -18.4    11.8176    "
      ]
     },
     "metadata": {},
     "output_type": "display_data"
    }
   ],
   "source": [
    "# Fitting Model 1\n",
    "fit.df <- l7_blyp_vtz.df\n",
    "c_DFTX <- -1.2\n",
    "c_HFX <- 1.111\n",
    "fit.df$int_DFT_fit <- fit.df$int_DFT + c_HFX*fit.df$int_HF_X + c_DFTX*fit.df$int_DFT_X\n",
    "round.fn(data.frame(\"component\" = c(\"MEAN\", \"MAD\", \"MAE\", \"RMSD\", \"SD\", \"Min\", \"Max\") ,\"stat\" = classic.stats.fn(fit.df$int_DFT_fit - fit.df$int_bm)), n = 3)\n",
    "fit.df[which(fit.df$int_DFT_fit == max(fit.df$int_DFT_fit)),]"
   ]
  },
  {
   "cell_type": "code",
   "execution_count": 36,
   "metadata": {},
   "outputs": [
    {
     "data": {
      "text/html": [
       "<table>\n",
       "<thead><tr><th scope=col>component</th><th scope=col>stat</th></tr></thead>\n",
       "<tbody>\n",
       "\t<tr><td>MEAN     </td><td> 1.796667</td></tr>\n",
       "\t<tr><td>MAD      </td><td> 1.586382</td></tr>\n",
       "\t<tr><td>MAE      </td><td> 4.503333</td></tr>\n",
       "\t<tr><td>RMSD     </td><td> 4.899446</td></tr>\n",
       "\t<tr><td>SD       </td><td> 4.993182</td></tr>\n",
       "\t<tr><td>Min      </td><td>-8.120000</td></tr>\n",
       "\t<tr><td>Max      </td><td> 5.620000</td></tr>\n",
       "</tbody>\n",
       "</table>\n"
      ],
      "text/latex": [
       "\\begin{tabular}{r|ll}\n",
       " component & stat\\\\\n",
       "\\hline\n",
       "\t MEAN      &  1.796667\\\\\n",
       "\t MAD       &  1.586382\\\\\n",
       "\t MAE       &  4.503333\\\\\n",
       "\t RMSD      &  4.899446\\\\\n",
       "\t SD        &  4.993182\\\\\n",
       "\t Min       & -8.120000\\\\\n",
       "\t Max       &  5.620000\\\\\n",
       "\\end{tabular}\n"
      ],
      "text/markdown": [
       "\n",
       "component | stat | \n",
       "|---|---|---|---|---|---|---|\n",
       "| MEAN      |  1.796667 | \n",
       "| MAD       |  1.586382 | \n",
       "| MAE       |  4.503333 | \n",
       "| RMSD      |  4.899446 | \n",
       "| SD        |  4.993182 | \n",
       "| Min       | -8.120000 | \n",
       "| Max       |  5.620000 | \n",
       "\n",
       "\n"
      ],
      "text/plain": [
       "  component stat     \n",
       "1 MEAN       1.796667\n",
       "2 MAD        1.586382\n",
       "3 MAE        4.503333\n",
       "4 RMSD       4.899446\n",
       "5 SD         4.993182\n",
       "6 Min       -8.120000\n",
       "7 Max        5.620000"
      ]
     },
     "metadata": {},
     "output_type": "display_data"
    }
   ],
   "source": [
    "data.frame(\"component\" = c(\"MEAN\", \"MAD\", \"MAE\", \"RMSD\", \"SD\", \"Min\", \"Max\") ,\"stat\" = classic.stats.fn(fit.df$int_DFT_D3 - fit.df$int_bm))"
   ]
  },
  {
   "cell_type": "code",
   "execution_count": 83,
   "metadata": {},
   "outputs": [
    {
     "data": {
      "text/html": [
       "<table>\n",
       "<thead><tr><th scope=col>component</th><th scope=col>stat</th></tr></thead>\n",
       "<tbody>\n",
       "\t<tr><td>MEAN  </td><td>47.908</td></tr>\n",
       "\t<tr><td>MAD   </td><td>39.394</td></tr>\n",
       "\t<tr><td>MAE   </td><td>47.908</td></tr>\n",
       "\t<tr><td>RMSD  </td><td>60.143</td></tr>\n",
       "\t<tr><td>SD    </td><td>39.831</td></tr>\n",
       "\t<tr><td>Min   </td><td> 6.437</td></tr>\n",
       "\t<tr><td>Max   </td><td>98.811</td></tr>\n",
       "</tbody>\n",
       "</table>\n"
      ],
      "text/latex": [
       "\\begin{tabular}{r|ll}\n",
       " component & stat\\\\\n",
       "\\hline\n",
       "\t MEAN   & 47.908\\\\\n",
       "\t MAD    & 39.394\\\\\n",
       "\t MAE    & 47.908\\\\\n",
       "\t RMSD   & 60.143\\\\\n",
       "\t SD     & 39.831\\\\\n",
       "\t Min    &  6.437\\\\\n",
       "\t Max    & 98.811\\\\\n",
       "\\end{tabular}\n"
      ],
      "text/markdown": [
       "\n",
       "component | stat | \n",
       "|---|---|---|---|---|---|---|\n",
       "| MEAN   | 47.908 | \n",
       "| MAD    | 39.394 | \n",
       "| MAE    | 47.908 | \n",
       "| RMSD   | 60.143 | \n",
       "| SD     | 39.831 | \n",
       "| Min    |  6.437 | \n",
       "| Max    | 98.811 | \n",
       "\n",
       "\n"
      ],
      "text/plain": [
       "  component stat  \n",
       "1 MEAN      47.908\n",
       "2 MAD       39.394\n",
       "3 MAE       47.908\n",
       "4 RMSD      60.143\n",
       "5 SD        39.831\n",
       "6 Min        6.437\n",
       "7 Max       98.811"
      ]
     },
     "metadata": {},
     "output_type": "display_data"
    },
    {
     "data": {
      "text/html": [
       "<table>\n",
       "<thead><tr><th></th><th scope=col>dimer</th><th scope=col>complex</th><th scope=col>int_bm</th><th scope=col>int_DFT</th><th scope=col>int_DFT_X</th><th scope=col>int_DFT_C</th><th scope=col>int_DFT_D3</th><th scope=col>int_HF_X</th><th scope=col>int_DFT_fit</th></tr></thead>\n",
       "<tbody>\n",
       "\t<tr><th scope=row>2</th><td>cluster-4107  </td><td>guanine-trimer</td><td>-10.04        </td><td>31.9          </td><td>-0.3          </td><td>-19.9         </td><td>-7.7          </td><td>-18.4         </td><td>8.1531        </td></tr>\n",
       "</tbody>\n",
       "</table>\n"
      ],
      "text/latex": [
       "\\begin{tabular}{r|lllllllll}\n",
       "  & dimer & complex & int\\_bm & int\\_DFT & int\\_DFT\\_X & int\\_DFT\\_C & int\\_DFT\\_D3 & int\\_HF\\_X & int\\_DFT\\_fit\\\\\n",
       "\\hline\n",
       "\t2 & cluster-4107   & guanine-trimer & -10.04         & 31.9           & -0.3           & -19.9          & -7.7           & -18.4          & 8.1531        \\\\\n",
       "\\end{tabular}\n"
      ],
      "text/markdown": [
       "\n",
       "| <!--/--> | dimer | complex | int_bm | int_DFT | int_DFT_X | int_DFT_C | int_DFT_D3 | int_HF_X | int_DFT_fit | \n",
       "|---|\n",
       "| 2 | cluster-4107   | guanine-trimer | -10.04         | 31.9           | -0.3           | -19.9          | -7.7           | -18.4          | 8.1531         | \n",
       "\n",
       "\n"
      ],
      "text/plain": [
       "  dimer        complex        int_bm int_DFT int_DFT_X int_DFT_C int_DFT_D3\n",
       "2 cluster-4107 guanine-trimer -10.04 31.9    -0.3      -19.9     -7.7      \n",
       "  int_HF_X int_DFT_fit\n",
       "2 -18.4    8.1531     "
      ]
     },
     "metadata": {},
     "output_type": "display_data"
    }
   ],
   "source": [
    "# Fitting Model 2\n",
    "fit.df <- l7_blyp_vtz.df\n",
    "c_DFTX <- -0.711\n",
    "c_HFX <- 0.517\n",
    "c_DFTC <- 0.726\n",
    "fit.df$int_DFT_fit <- fit.df$int_DFT + c_HFX*fit.df$int_HF_X + c_DFTX*fit.df$int_DFT_X + c_DFTC*fit.df$int_DFT_C\n",
    "round.fn(data.frame(\"component\" = c(\"MEAN\", \"MAD\", \"MAE\", \"RMSD\", \"SD\", \"Min\", \"Max\") ,\"stat\" = classic.stats.fn(fit.df$int_DFT_fit - fit.df$int_bm)), n = 3)\n",
    "fit.df[which(fit.df$int_DFT_fit == max(fit.df$int_DFT_fit)),]"
   ]
  },
  {
   "cell_type": "code",
   "execution_count": 85,
   "metadata": {},
   "outputs": [
    {
     "data": {
      "text/html": [
       "<table>\n",
       "<thead><tr><th scope=col>component</th><th scope=col>stat</th></tr></thead>\n",
       "<tbody>\n",
       "\t<tr><td>MEAN   </td><td> 81.897</td></tr>\n",
       "\t<tr><td>MAD    </td><td> 74.005</td></tr>\n",
       "\t<tr><td>MAE    </td><td> 81.897</td></tr>\n",
       "\t<tr><td>RMSD   </td><td>100.107</td></tr>\n",
       "\t<tr><td>SD     </td><td> 63.065</td></tr>\n",
       "\t<tr><td>Min    </td><td>  0.268</td></tr>\n",
       "\t<tr><td>Max    </td><td>164.814</td></tr>\n",
       "</tbody>\n",
       "</table>\n"
      ],
      "text/latex": [
       "\\begin{tabular}{r|ll}\n",
       " component & stat\\\\\n",
       "\\hline\n",
       "\t MEAN    &  81.897\\\\\n",
       "\t MAD     &  74.005\\\\\n",
       "\t MAE     &  81.897\\\\\n",
       "\t RMSD    & 100.107\\\\\n",
       "\t SD      &  63.065\\\\\n",
       "\t Min     &   0.268\\\\\n",
       "\t Max     & 164.814\\\\\n",
       "\\end{tabular}\n"
      ],
      "text/markdown": [
       "\n",
       "component | stat | \n",
       "|---|---|---|---|---|---|---|\n",
       "| MEAN    |  81.897 | \n",
       "| MAD     |  74.005 | \n",
       "| MAE     |  81.897 | \n",
       "| RMSD    | 100.107 | \n",
       "| SD      |  63.065 | \n",
       "| Min     |   0.268 | \n",
       "| Max     | 164.814 | \n",
       "\n",
       "\n"
      ],
      "text/plain": [
       "  component stat   \n",
       "1 MEAN       81.897\n",
       "2 MAD        74.005\n",
       "3 MAE        81.897\n",
       "4 RMSD      100.107\n",
       "5 SD         63.065\n",
       "6 Min         0.268\n",
       "7 Max       164.814"
      ]
     },
     "metadata": {},
     "output_type": "display_data"
    },
    {
     "data": {
      "text/html": [
       "<table>\n",
       "<thead><tr><th></th><th scope=col>dimer</th><th scope=col>complex</th><th scope=col>int_bm</th><th scope=col>int_DFT</th><th scope=col>int_DFT_X</th><th scope=col>int_DFT_C</th><th scope=col>int_DFT_D3</th><th scope=col>int_HF_X</th><th scope=col>int_DFT_fit</th></tr></thead>\n",
       "<tbody>\n",
       "\t<tr><th scope=row>6</th><td>cluster-4111  </td><td>coronene-dimer</td><td>-101.92       </td><td>63.9          </td><td>-32.7         </td><td>-63.3         </td><td>-96.3         </td><td>-105.1        </td><td>39.1192       </td></tr>\n",
       "</tbody>\n",
       "</table>\n"
      ],
      "text/latex": [
       "\\begin{tabular}{r|lllllllll}\n",
       "  & dimer & complex & int\\_bm & int\\_DFT & int\\_DFT\\_X & int\\_DFT\\_C & int\\_DFT\\_D3 & int\\_HF\\_X & int\\_DFT\\_fit\\\\\n",
       "\\hline\n",
       "\t6 & cluster-4111   & coronene-dimer & -101.92        & 63.9           & -32.7          & -63.3          & -96.3          & -105.1         & 39.1192       \\\\\n",
       "\\end{tabular}\n"
      ],
      "text/markdown": [
       "\n",
       "| <!--/--> | dimer | complex | int_bm | int_DFT | int_DFT_X | int_DFT_C | int_DFT_D3 | int_HF_X | int_DFT_fit | \n",
       "|---|\n",
       "| 6 | cluster-4111   | coronene-dimer | -101.92        | 63.9           | -32.7          | -63.3          | -96.3          | -105.1         | 39.1192        | \n",
       "\n",
       "\n"
      ],
      "text/plain": [
       "  dimer        complex        int_bm  int_DFT int_DFT_X int_DFT_C int_DFT_D3\n",
       "6 cluster-4111 coronene-dimer -101.92 63.9    -32.7     -63.3     -96.3     \n",
       "  int_HF_X int_DFT_fit\n",
       "6 -105.1   39.1192    "
      ]
     },
     "metadata": {},
     "output_type": "display_data"
    }
   ],
   "source": [
    "# Fitting Model 4\n",
    "fit.df <- l7_blyp_vtz.df\n",
    "c_HFX <- 0.812\n",
    "c_DFTC <- 0.436\n",
    "fit.df$int_DFT_fit <- fit.df$int_DFT + c_HFX*fit.df$int_HF_X - fit.df$int_DFT_X + c_DFTC*fit.df$int_DFT\n",
    "round.fn(data.frame(\"component\" = c(\"MEAN\", \"MAD\", \"MAE\", \"RMSD\", \"SD\", \"Min\", \"Max\") ,\"stat\" = classic.stats.fn(fit.df$int_DFT_fit - fit.df$int_bm)), n = 3)\n",
    "fit.df[which(fit.df$int_DFT_fit == max(fit.df$int_DFT_fit)),]"
   ]
  }
 ],
 "metadata": {
  "kernelspec": {
   "display_name": "R",
   "language": "R",
   "name": "ir"
  },
  "language_info": {
   "codemirror_mode": "r",
   "file_extension": ".r",
   "mimetype": "text/x-r-source",
   "name": "R",
   "pygments_lexer": "r",
   "version": "3.5.0"
  }
 },
 "nbformat": 4,
 "nbformat_minor": 2
}
